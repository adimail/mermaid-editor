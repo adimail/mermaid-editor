{
 "cells": [
  {
   "cell_type": "markdown",
   "metadata": {
    "id": "Tce3stUlHN0L"
   },
   "source": [
    "# Mermaid AI demonstration"
   ]
  },
  {
   "cell_type": "markdown",
   "metadata": {
    "id": "yeadDkMiISin"
   },
   "source": [
    "# Get started with the Gemini API: Python"
   ]
  },
  {
   "cell_type": "markdown",
   "metadata": {
    "id": "FFPBKLapSCkM"
   },
   "source": [
    "## Setup"
   ]
  },
  {
   "cell_type": "code",
   "execution_count": 2,
   "metadata": {
    "id": "9OEoeosRTv-5"
   },
   "outputs": [],
   "source": [
    "!pip3 install -q -U google-generativeai"
   ]
  },
  {
   "cell_type": "markdown",
   "metadata": {
    "id": "KCFF5VSTbcAR"
   },
   "source": [
    "### Import packages"
   ]
  },
  {
   "cell_type": "markdown",
   "metadata": {
    "id": "vRC2HngneEeQ"
   },
   "source": [
    "Import the necessary packages."
   ]
  },
  {
   "cell_type": "code",
   "execution_count": 3,
   "metadata": {
    "id": "TS9l5igubpHO"
   },
   "outputs": [],
   "source": [
    "import pathlib\n",
    "import textwrap\n",
    "\n",
    "import google.generativeai as genai\n",
    "\n",
    "from IPython.display import display\n",
    "from IPython.display import Markdown\n",
    "\n",
    "\n",
    "def to_markdown(text):\n",
    "  text = text.replace('•', '  *')\n",
    "  return Markdown(textwrap.indent(text, '> ', predicate=lambda _: True))"
   ]
  },
  {
   "cell_type": "markdown",
   "metadata": {
    "id": "gHYFrFPjSGNq"
   },
   "source": [
    "### Setup API key\n",
    "\n",
    "<a class=\"button button-primary\" href=\"https://makersuite.google.com/app/apikey\" target=\"_blank\" rel=\"noopener noreferrer\">Get an API key</a>"
   ]
  },
  {
   "cell_type": "code",
   "execution_count": 4,
   "metadata": {},
   "outputs": [
    {
     "name": "stdout",
     "output_type": "stream",
     "text": [
      "Requirement already satisfied: python-dotenv in /Library/Frameworks/Python.framework/Versions/3.12/lib/python3.12/site-packages (1.0.1)\n",
      "Note: you may need to restart the kernel to use updated packages.\n"
     ]
    }
   ],
   "source": [
    "pip install python-dotenv"
   ]
  },
  {
   "cell_type": "code",
   "execution_count": 6,
   "metadata": {},
   "outputs": [],
   "source": [
    "from dotenv import load_dotenv\n",
    "import os\n",
    "\n",
    "load_dotenv()\n",
    "\n",
    "api_key = os.getenv('API_KEY')"
   ]
  },
  {
   "cell_type": "code",
   "execution_count": 7,
   "metadata": {
    "id": "ab9ASynfcIZn"
   },
   "outputs": [],
   "source": [
    "genai.configure(api_key=api_key)"
   ]
  },
  {
   "cell_type": "markdown",
   "metadata": {
    "id": "8ssbTMNVSMd-"
   },
   "source": [
    "## Avaliable models\n",
    "\n",
    "* `gemini-1.5-pro`: optimized for high intelligence tasks, the most powerful Gemini model\n",
    "* `gemini-1.5-flash`: optimized for multi-modal use-cases where speed and cost are important"
   ]
  },
  {
   "cell_type": "code",
   "execution_count": 8,
   "metadata": {
    "colab": {
     "base_uri": "https://localhost:8080/",
     "height": 231
    },
    "id": "QvvWFy08e5c5",
    "outputId": "2bfb7e2f-d4b3-43f9-91b5-45a4492b0d68"
   },
   "outputs": [
    {
     "name": "stdout",
     "output_type": "stream",
     "text": [
      "models/gemini-1.0-pro\n",
      "models/gemini-1.0-pro-001\n",
      "models/gemini-1.0-pro-latest\n",
      "models/gemini-1.0-pro-vision-latest\n",
      "models/gemini-1.5-flash\n",
      "models/gemini-1.5-flash-001\n",
      "models/gemini-1.5-flash-latest\n",
      "models/gemini-1.5-pro\n",
      "models/gemini-1.5-pro-001\n",
      "models/gemini-1.5-pro-latest\n",
      "models/gemini-pro\n",
      "models/gemini-pro-vision\n"
     ]
    }
   ],
   "source": [
    "for m in genai.list_models():\n",
    "  if 'generateContent' in m.supported_generation_methods:\n",
    "    print(m.name)"
   ]
  },
  {
   "cell_type": "markdown",
   "metadata": {
    "id": "LZfoK3I3hu6V"
   },
   "source": [
    "## Generate text from text inputs\n",
    "\n",
    "For text-only prompts, use the `gemini-pro` model:"
   ]
  },
  {
   "cell_type": "code",
   "execution_count": 9,
   "metadata": {
    "id": "2bcfnGEviwTI"
   },
   "outputs": [],
   "source": [
    "model = genai.GenerativeModel('gemini-1.5-flash')"
   ]
  },
  {
   "cell_type": "markdown",
   "metadata": {
    "id": "WR_2A_sxk8sK"
   },
   "source": [
    "The `generate_content` method can handle a wide variety of use cases, including multi-turn chat and multimodal input, depending on what the underlying model supports. The available models only support text and images as input, and text as output.\n",
    "\n",
    "In the simplest case, you can pass a prompt string to the <a href=\"https://ai.google.dev/api/python/google/generativeai/GenerativeModel#generate_content\"><code>GenerativeModel.generate_content</code></a> method:"
   ]
  },
  {
   "cell_type": "code",
   "execution_count": 10,
   "metadata": {
    "colab": {
     "base_uri": "https://localhost:8080/",
     "height": 53
    },
    "id": "he-OfzBbhACQ",
    "outputId": "c84b2ee1-f419-401c-b7ba-968f129a3d45"
   },
   "outputs": [
    {
     "name": "stdout",
     "output_type": "stream",
     "text": [
      "CPU times: user 14.6 ms, sys: 11.5 ms, total: 26.2 ms\n",
      "Wall time: 7.75 s\n"
     ]
    }
   ],
   "source": [
    "%%time\n",
    "response = model.generate_content(\"Explain what is Mermaid JS and tell its use cases?\")"
   ]
  },
  {
   "cell_type": "markdown",
   "metadata": {
    "id": "FbrR-n_qlpFd"
   },
   "source": [
    "In simple cases, the `response.text` accessor is all you need. To display formatted Markdown text, use the `to_markdown` function:"
   ]
  },
  {
   "cell_type": "code",
   "execution_count": 11,
   "metadata": {
    "colab": {
     "base_uri": "https://localhost:8080/",
     "height": 510
    },
    "id": "G-zBkueElVEO",
    "outputId": "c0a3253d-3dbf-4fdc-963b-ccfb29ae2543"
   },
   "outputs": [
    {
     "data": {
      "text/markdown": [
       "> ## Mermaid.js: A Visual Language for Diagrams in Your Docs\n",
       "> \n",
       "> Mermaid.js is a JavaScript library that lets you **create various diagrams and flowcharts directly within your Markdown files.** It uses a simple, text-based syntax that you can easily embed into your documentation, presentations, or even websites. \n",
       "> \n",
       "> **Here's what makes Mermaid.js so special:**\n",
       "> \n",
       "> * **Easy to Learn:** Its syntax is intuitive and readable, even for those unfamiliar with diagram software.\n",
       "> * **Versatile:** It supports various diagram types, including:\n",
       ">     * **Flowcharts:** Depicting workflows and processes.\n",
       ">     * **Sequence Diagrams:** Illustrating interaction sequences between objects.\n",
       ">     * **Gantt Charts:** Visualizing project timelines and tasks.\n",
       ">     * **Class Diagrams:** Representing relationships between classes in object-oriented programming.\n",
       ">     * **State Diagrams:** Showing state transitions in a system.\n",
       ">     * **Entity Relationship Diagrams (ERDs):** Modeling data relationships in databases.\n",
       ">     * **User Journey Maps:** Mapping user interactions and experiences.\n",
       ">     * **Pie Charts, Bar Charts, and more:** For data visualization.\n",
       "> * **Interactive:** Mermaid diagrams can be rendered interactively, allowing users to zoom, pan, and explore the diagram details.\n",
       "> * **Cross-Platform:** It works with various markdown editors and platforms like Github, Gitlab, Notion, and more.\n",
       "> \n",
       "> **Use Cases:**\n",
       "> \n",
       "> Mermaid.js is widely used in various scenarios, including:\n",
       "> \n",
       "> * **Documentation:** Creating clear and concise documentation for software, products, or processes.\n",
       "> * **Project Management:** Visualizing project timelines, dependencies, and tasks with Gantt charts.\n",
       "> * **Software Development:** Illustrating software architecture, class relationships, and workflows with diagrams.\n",
       "> * **Presentations:** Enhancing presentations with visually appealing diagrams and charts.\n",
       "> * **Education:** Explaining complex concepts with easy-to-understand diagrams.\n",
       "> * **Web Development:** Integrating interactive diagrams directly into web pages.\n",
       "> * **Data Visualization:** Creating charts and graphs to present data effectively.\n",
       "> \n",
       "> **Example:**\n",
       "> \n",
       "> Here's a simple example of a flowchart created using Mermaid.js:\n",
       "> \n",
       "> ```mermaid\n",
       "> graph LR\n",
       ">     A[Start] --> B{Is it raining?}\n",
       ">     B -- Yes --> C[Take an umbrella]\n",
       ">     B -- No --> D[Enjoy the sunshine]\n",
       "> ```\n",
       "> \n",
       "> This code generates a flowchart with nodes labeled \"Start,\" \"Is it raining?,\" \"Take an umbrella,\" and \"Enjoy the sunshine.\" The arrows indicate the flow of logic based on whether it's raining or not.\n",
       "> \n",
       "> **Benefits of using Mermaid.js:**\n",
       "> \n",
       "> * **Improved Clarity and Communication:** Diagrams simplify complex information and make it easier to understand.\n",
       "> * **Increased Efficiency:** Creating diagrams is fast and easy, reducing the time needed for documentation and presentations.\n",
       "> * **Enhanced Collaboration:**  Shared diagrams promote communication and understanding among team members.\n",
       "> * **Scalability:**  Mermaid.js can handle complex diagrams with numerous nodes and connections.\n",
       "> * **Integration with Existing Tools:** It seamlessly integrates with popular markdown editors and platforms.\n",
       "> \n",
       "> Overall, Mermaid.js provides a powerful and versatile tool for creating visually appealing diagrams and enhancing communication in various contexts."
      ],
      "text/plain": [
       "<IPython.core.display.Markdown object>"
      ]
     },
     "execution_count": 11,
     "metadata": {},
     "output_type": "execute_result"
    }
   ],
   "source": [
    "to_markdown(response.text)"
   ]
  },
  {
   "cell_type": "markdown",
   "metadata": {
    "id": "UZPpoKMQoru8"
   },
   "source": [
    "If the API failed to return a result, use `GenerateContentResponse.prompt_feedback` to see if it was blocked due to safety concerns regarding the prompt."
   ]
  },
  {
   "cell_type": "code",
   "execution_count": 12,
   "metadata": {
    "colab": {
     "base_uri": "https://localhost:8080/",
     "height": 496
    },
    "id": "zbp-ezoschIp",
    "outputId": "32e03c56-1fce-4956-a448-4fece096edcf"
   },
   "outputs": [
    {
     "data": {
      "text/markdown": [
       "> ```mermaid\n",
       "> graph LR\n",
       ">     subgraph Instagram Business Model\n",
       ">         A[Users] --> B{Content Creation & Sharing}\n",
       ">         B --> C[Engagement & Interaction]\n",
       ">         C --> D[Data Collection & Analysis]\n",
       ">         D --> E[Targeted Advertising]\n",
       ">         E --> F[Revenue Generation]\n",
       ">         F --> A\n",
       ">     end\n",
       ">     subgraph Content Creation & Sharing\n",
       ">         B1[Photo & Video Sharing]\n",
       ">         B2[Stories & Reels]\n",
       ">         B3[Live Streaming]\n",
       ">         B4[Direct Messaging]\n",
       ">         B5[Influencer Marketing]\n",
       ">         B1 --> B\n",
       ">         B2 --> B\n",
       ">         B3 --> B\n",
       ">         B4 --> B\n",
       ">         B5 --> B\n",
       ">     end\n",
       ">     subgraph Engagement & Interaction\n",
       ">         C1[Likes & Comments]\n",
       ">         C2[Shares & Saves]\n",
       ">         C3[Follows & Unfollows]\n",
       ">         C4[Hashtags & Explore Tab]\n",
       ">         C5[Brand Mentions & Influencer Partnerships]\n",
       ">         C1 --> C\n",
       ">         C2 --> C\n",
       ">         C3 --> C\n",
       ">         C4 --> C\n",
       ">         C5 --> C\n",
       ">     end\n",
       ">     subgraph Data Collection & Analysis\n",
       ">         D1[User Demographics & Interests]\n",
       ">         D2[Content Performance Metrics]\n",
       ">         D3[Engagement Patterns]\n",
       ">         D4[Behavioral Data]\n",
       ">         D1 --> D\n",
       ">         D2 --> D\n",
       ">         D3 --> D\n",
       ">         D4 --> D\n",
       ">     end\n",
       ">     subgraph Targeted Advertising\n",
       ">         E1[In-Feed Ads]\n",
       ">         E2[Story Ads]\n",
       ">         E3[Reels Ads]\n",
       ">         E4[Shopping Ads]\n",
       ">         E5[Audience Targeting]\n",
       ">         E1 --> E\n",
       ">         E2 --> E\n",
       ">         E3 --> E\n",
       ">         E4 --> E\n",
       ">         E5 --> E\n",
       ">     end\n",
       ">     subgraph Revenue Generation\n",
       ">         F1[Ad Revenue]\n",
       ">         F2[Subscription Services]\n",
       ">         F3[E-commerce & Shopping]\n",
       ">         F1 --> F\n",
       ">         F2 --> F\n",
       ">         F3 --> F\n",
       ">     end\n",
       "> ```"
      ],
      "text/plain": [
       "<IPython.core.display.Markdown object>"
      ]
     },
     "execution_count": 12,
     "metadata": {},
     "output_type": "execute_result"
    }
   ],
   "source": [
    "base = \"Provide me mermaid code for the following usecase. If not specified, create a graph or a flowchart for the situation. Only and only give me the mermaid code, nothing else. No plain text, I am passing this code to an compiler that will generate charts from your response so I dont want any syntax errors. Here is the user query:\"\n",
    "\n",
    "response = model.generate_content(f'{base} Instagram buisness model in vertical graph and sub graphs as well')\n",
    "to_markdown(response.text)"
   ]
  },
  {
   "cell_type": "code",
   "execution_count": 13,
   "metadata": {
    "colab": {
     "base_uri": "https://localhost:8080/"
    },
    "id": "eIQdU8AGoraT",
    "outputId": "1ee575c7-7e05-497a-c146-80d0f61e4203"
   },
   "outputs": [
    {
     "data": {
      "text/plain": []
     },
     "execution_count": 13,
     "metadata": {},
     "output_type": "execute_result"
    }
   ],
   "source": [
    "response.prompt_feedback"
   ]
  },
  {
   "cell_type": "markdown",
   "metadata": {
    "id": "BEJupEDUo6Xj"
   },
   "source": [
    "Gemini can generate multiple possible responses for a single prompt. These possible responses are called `candidates`, and you can review them to select the most suitable one as the response.\n",
    "\n",
    "View the response candidates with <a href=\"https://ai.google.dev/api/python/google/ai/generativelanguage/GenerateContentResponse#candidates\"><code>GenerateContentResponse.candidates</code></a>:"
   ]
  },
  {
   "cell_type": "code",
   "execution_count": 14,
   "metadata": {
    "colab": {
     "base_uri": "https://localhost:8080/"
    },
    "id": "QoGYz-I7o5wF",
    "outputId": "b8507550-729d-4c05-f931-01d5183bc3c4"
   },
   "outputs": [
    {
     "data": {
      "text/plain": [
       "[index: 0\n",
       "content {\n",
       "  parts {\n",
       "    text: \"```mermaid\\ngraph LR\\n    subgraph Instagram Business Model\\n        A[Users] --> B{Content Creation & Sharing}\\n        B --> C[Engagement & Interaction]\\n        C --> D[Data Collection & Analysis]\\n        D --> E[Targeted Advertising]\\n        E --> F[Revenue Generation]\\n        F --> A\\n    end\\n    subgraph Content Creation & Sharing\\n        B1[Photo & Video Sharing]\\n        B2[Stories & Reels]\\n        B3[Live Streaming]\\n        B4[Direct Messaging]\\n        B5[Influencer Marketing]\\n        B1 --> B\\n        B2 --> B\\n        B3 --> B\\n        B4 --> B\\n        B5 --> B\\n    end\\n    subgraph Engagement & Interaction\\n        C1[Likes & Comments]\\n        C2[Shares & Saves]\\n        C3[Follows & Unfollows]\\n        C4[Hashtags & Explore Tab]\\n        C5[Brand Mentions & Influencer Partnerships]\\n        C1 --> C\\n        C2 --> C\\n        C3 --> C\\n        C4 --> C\\n        C5 --> C\\n    end\\n    subgraph Data Collection & Analysis\\n        D1[User Demographics & Interests]\\n        D2[Content Performance Metrics]\\n        D3[Engagement Patterns]\\n        D4[Behavioral Data]\\n        D1 --> D\\n        D2 --> D\\n        D3 --> D\\n        D4 --> D\\n    end\\n    subgraph Targeted Advertising\\n        E1[In-Feed Ads]\\n        E2[Story Ads]\\n        E3[Reels Ads]\\n        E4[Shopping Ads]\\n        E5[Audience Targeting]\\n        E1 --> E\\n        E2 --> E\\n        E3 --> E\\n        E4 --> E\\n        E5 --> E\\n    end\\n    subgraph Revenue Generation\\n        F1[Ad Revenue]\\n        F2[Subscription Services]\\n        F3[E-commerce & Shopping]\\n        F1 --> F\\n        F2 --> F\\n        F3 --> F\\n    end\\n```\"\n",
       "  }\n",
       "  role: \"model\"\n",
       "}\n",
       "finish_reason: STOP\n",
       "safety_ratings {\n",
       "  category: HARM_CATEGORY_SEXUALLY_EXPLICIT\n",
       "  probability: NEGLIGIBLE\n",
       "}\n",
       "safety_ratings {\n",
       "  category: HARM_CATEGORY_HATE_SPEECH\n",
       "  probability: NEGLIGIBLE\n",
       "}\n",
       "safety_ratings {\n",
       "  category: HARM_CATEGORY_HARASSMENT\n",
       "  probability: NEGLIGIBLE\n",
       "}\n",
       "safety_ratings {\n",
       "  category: HARM_CATEGORY_DANGEROUS_CONTENT\n",
       "  probability: NEGLIGIBLE\n",
       "}\n",
       "]"
      ]
     },
     "execution_count": 14,
     "metadata": {},
     "output_type": "execute_result"
    }
   ],
   "source": [
    "response.candidates"
   ]
  },
  {
   "cell_type": "markdown",
   "metadata": {
    "id": "EJrwllLnHlBb"
   },
   "source": [
    "By default, the model returns a response after completing the entire generation process. You can also stream the response as it is being generated, and the model will return chunks of the response as soon as they are generated.\n",
    "\n",
    "To stream responses, use <a href=\"https://ai.google.dev/api/python/google/generativeai/GenerativeModel#generate_content\"><code>GenerativeModel.generate_content(..., stream=True)</code></a>."
   ]
  },
  {
   "cell_type": "code",
   "execution_count": 15,
   "metadata": {
    "colab": {
     "base_uri": "https://localhost:8080/",
     "height": 53
    },
    "id": "Z7n59b3hHo6-",
    "outputId": "1bba010b-0961-4803-b9f0-aca27619d899"
   },
   "outputs": [
    {
     "name": "stdout",
     "output_type": "stream",
     "text": [
      "CPU times: user 3.88 ms, sys: 3.41 ms, total: 7.29 ms\n",
      "Wall time: 734 ms\n"
     ]
    }
   ],
   "source": [
    "%%time\n",
    "response = model.generate_content(\"Explain what is Mermaid JS and tell its use cases?\", stream=True)"
   ]
  },
  {
   "cell_type": "code",
   "execution_count": 16,
   "metadata": {
    "colab": {
     "base_uri": "https://localhost:8080/"
    },
    "id": "2jt0d0GCIUhg",
    "outputId": "e41d34ff-715f-4678-ef1a-caac05570110"
   },
   "outputs": [
    {
     "name": "stdout",
     "output_type": "stream",
     "text": [
      "##\n",
      "________________________________________________________________________________\n",
      " What is Mermaid.js?\n",
      "\n",
      "Mermaid.js is a JavaScript library that allows\n",
      "________________________________________________________________________________\n",
      " you to create diagrams and flowcharts directly within your markdown files. It uses a\n",
      "________________________________________________________________________________\n",
      " simple and intuitive syntax to define your diagrams, which are then rendered into beautiful and interactive visualizations. \n",
      "\n",
      "Here's a breakdown of key features:\n",
      "\n",
      "*\n",
      "________________________________________________________________________________\n",
      " **Easy to use:** Its syntax is simple and readable, resembling plain text. This makes it accessible for users with different technical backgrounds.\n",
      "* **Versatile:**\n",
      "________________________________________________________________________________\n",
      " Supports a wide variety of diagrams including flowcharts, sequence diagrams, class diagrams, state diagrams, entity relationship diagrams, Gantt charts, and more.\n",
      "* **Interactive:** Allows for zooming, panning, and highlighting of diagram elements.\n",
      "*\n",
      "________________________________________________________________________________\n",
      " **Lightweight:** Doesn't require external dependencies or complex setup.\n",
      "* **Open Source:** Freely available for use and modification.\n",
      "\n",
      "## Use Cases of Mermaid.js:\n",
      "\n",
      "Mermaid.js is a powerful tool that can be utilized\n",
      "________________________________________________________________________________\n",
      " in various scenarios, including:\n",
      "\n",
      "**Documentation & Knowledge Sharing:**\n",
      "\n",
      "* **Visualize complex workflows:** Clearly depict processes and decision-making paths in technical documentation.\n",
      "* **Explain system architecture:** Create diagrams for software design, database schemas, and network topologies.\n",
      "* **Illustrate user journeys:** Map out\n",
      "________________________________________________________________________________\n",
      " customer interactions with your product or service.\n",
      "* **Present technical concepts:** Break down complex information into visually appealing and understandable components.\n",
      "\n",
      "**Software Development:**\n",
      "\n",
      "* **Generate documentation for code:** Integrate Mermaid.js into code comments or README files to visualize code structure and relationships.\n",
      "* **Rapid prototyping:** Quickly create\n",
      "________________________________________________________________________________\n",
      " visual representations of ideas for software features or user interfaces.\n",
      "* **Communicate with stakeholders:** Share project progress and design decisions with team members and clients using interactive diagrams.\n",
      "\n",
      "**Education & Training:**\n",
      "\n",
      "* **Create engaging learning materials:** Use Mermaid.js to enhance lectures, presentations, and online courses with interactive visuals\n",
      "________________________________________________________________________________\n",
      ".\n",
      "* **Explain abstract concepts:** Simplify complex theoretical concepts with intuitive diagrams that illustrate relationships and processes.\n",
      "* **Promote collaboration:** Encourage active learning through the creation and sharing of diagrams within online learning platforms.\n",
      "\n",
      "**Other Applications:**\n",
      "\n",
      "* **Business presentations:**  Craft visually engaging presentations by incorporating diagrams for data visualization\n",
      "________________________________________________________________________________\n",
      " and process illustration.\n",
      "* **Project management:**  Track project timelines, dependencies, and resource allocation using Gantt charts.\n",
      "* **Personal productivity:**  Organize ideas, plan workflows, and brainstorm solutions using flowchart and mind map diagrams.\n",
      "\n",
      "Overall, Mermaid.js is a valuable tool for anyone who needs to create and\n",
      "________________________________________________________________________________\n",
      " share visual representations of information. Its ease of use, versatility, and interactivity make it a powerful tool for enhancing communication and understanding in diverse fields.\n",
      "\n",
      "________________________________________________________________________________\n"
     ]
    }
   ],
   "source": [
    "for chunk in response:\n",
    "  print(chunk.text)\n",
    "  print(\"_\"*80)"
   ]
  },
  {
   "cell_type": "markdown",
   "metadata": {
    "id": "5b4Hkfj-pm3p"
   },
   "source": [
    "When streaming, some response attributes are not available until you've iterated through all the response chunks. This is demonstrated below:"
   ]
  },
  {
   "cell_type": "code",
   "execution_count": 17,
   "metadata": {
    "id": "-URRx4chp0Kt"
   },
   "outputs": [],
   "source": [
    "response = model.generate_content(\"Explain what is Mermaid JS and tell its use cases?\", stream=True)"
   ]
  },
  {
   "cell_type": "markdown",
   "metadata": {
    "id": "1HklomMEp9QM"
   },
   "source": [
    "The `prompt_feedback` attribute works:"
   ]
  },
  {
   "cell_type": "code",
   "execution_count": 18,
   "metadata": {
    "colab": {
     "base_uri": "https://localhost:8080/"
    },
    "id": "i1BvdXjop2V-",
    "outputId": "6fe6c2bf-f54d-403a-b348-8cacb8ecc9cb"
   },
   "outputs": [
    {
     "data": {
      "text/plain": []
     },
     "execution_count": 18,
     "metadata": {},
     "output_type": "execute_result"
    }
   ],
   "source": [
    "response.prompt_feedback"
   ]
  },
  {
   "cell_type": "markdown",
   "metadata": {
    "id": "mVaFQ4RmqGOH"
   },
   "source": [
    "But attributes like <code>text</code> do not:"
   ]
  },
  {
   "cell_type": "code",
   "execution_count": 19,
   "metadata": {
    "colab": {
     "base_uri": "https://localhost:8080/"
    },
    "id": "TiRkS6nCqFmM",
    "outputId": "c7917469-0543-44e2-999c-3fd6a2dd2e78"
   },
   "outputs": [
    {
     "name": "stdout",
     "output_type": "stream",
     "text": [
      "IncompleteIterationError: Please let the response complete iteration before accessing the final accumulated\n",
      "attributes (or call `response.resolve()`)\n"
     ]
    }
   ],
   "source": [
    "try:\n",
    "  response.text\n",
    "except Exception as e:\n",
    "  print(f'{type(e).__name__}: {e}')"
   ]
  },
  {
   "cell_type": "markdown",
   "metadata": {
    "id": "MCzr5ZpNhxLm"
   },
   "source": [
    "## Generate text from image and text inputs\n",
    "\n",
    "Gemini provides a multimodal model (`gemini-pro-vision`) that accepts both text and images and inputs. The `GenerativeModel.generate_content` API is designed to handle multimodal prompts and returns a text output.\n",
    "\n",
    "Let's include an image:"
   ]
  },
  {
   "cell_type": "code",
   "execution_count": 22,
   "metadata": {
    "colab": {
     "base_uri": "https://localhost:8080/",
     "height": 723
    },
    "id": "CjnS0vNTsVis",
    "outputId": "9881b732-c8af-41d8-d32f-d245355f671f"
   },
   "outputs": [
    {
     "data": {
      "image/jpeg": "[encoded data removed]",
      "image/png": "[encoded data removed]",
      "text/plain": [
       "<PIL.WebPImagePlugin.WebPImageFile image mode=RGB size=460x345>"
      ]
     },
     "execution_count": 22,
     "metadata": {},
     "output_type": "execute_result"
    }
   ],
   "source": [
    "import PIL.Image\n",
    "\n",
    "img = PIL.Image.open('water-jug.jpeg')\n",
    "img"
   ]
  },
  {
   "cell_type": "markdown",
   "metadata": {
    "id": "7r99TN2R8EUD"
   },
   "source": [
    "Use the `gemini-1.5-flash` model and pass the image to the model with `generate_content`."
   ]
  },
  {
   "cell_type": "code",
   "execution_count": 23,
   "metadata": {
    "id": "EtXxgVzmJZzE"
   },
   "outputs": [],
   "source": [
    "model = genai.GenerativeModel('gemini-1.5-flash')"
   ]
  },
  {
   "cell_type": "code",
   "execution_count": 24,
   "metadata": {
    "colab": {
     "base_uri": "https://localhost:8080/",
     "height": 80
    },
    "id": "GwYifv298Cj3",
    "outputId": "781c77a4-e369-48bf-e443-22835c40da7f"
   },
   "outputs": [
    {
     "data": {
      "text/markdown": [
       "> This image shows a math equation with water jugs. 5 liters + 3 liters = 8 liters.  There is a person looking at the equation with a confused expression on their face."
      ],
      "text/plain": [
       "<IPython.core.display.Markdown object>"
      ]
     },
     "execution_count": 24,
     "metadata": {},
     "output_type": "execute_result"
    }
   ],
   "source": [
    "response = model.generate_content(img)\n",
    "\n",
    "to_markdown(response.text)"
   ]
  },
  {
   "cell_type": "markdown",
   "metadata": {
    "id": "7xW2Kyra8pSz"
   },
   "source": [
    "To provide both text and images in a prompt, pass a list containing the strings and images:"
   ]
  },
  {
   "cell_type": "code",
   "execution_count": 26,
   "metadata": {
    "id": "vm9tUYeT8lBc"
   },
   "outputs": [],
   "source": [
    "response = model.generate_content([f'{base} This is a classic mathematics and computer science problem that involves using comcepts of backtracking and search algorithms called waterjug problem. Create a flowchart to create an algorithm for solving this problem givin the capacity of the 2 inputs and the expected result', img], stream=True)\n",
    "response.resolve()"
   ]
  },
  {
   "cell_type": "code",
   "execution_count": 27,
   "metadata": {
    "colab": {
     "base_uri": "https://localhost:8080/",
     "height": 237
    },
    "id": "d46826OA9IDS",
    "outputId": "95097a4d-357d-42db-b89c-ea87fe8bd623"
   },
   "outputs": [
    {
     "data": {
      "text/markdown": [
       "> ```mermaid\n",
       "> graph LR\n",
       ">     subgraph Start\n",
       ">         A[Initialize state]\n",
       ">     end\n",
       ">     A --> B{Fill 5L jug}\n",
       ">     B --> C{Fill 3L jug}\n",
       ">     C --> D{Pour 3L jug into 5L jug}\n",
       ">     D --> E{Fill 3L jug}\n",
       ">     E --> F{Pour 3L jug into 5L jug until full}\n",
       ">     F --> G{Empty 5L jug}\n",
       ">     G --> H{Pour 3L jug into 5L jug}\n",
       ">     H --> I{Fill 3L jug}\n",
       ">     I --> J{Pour 3L jug into 5L jug until full}\n",
       ">     J --> K{Empty 5L jug}\n",
       ">     K --> L{Pour 3L jug into 5L jug}\n",
       ">     L --> M{Fill 3L jug}\n",
       ">     M --> N{Pour 3L jug into 5L jug until full}\n",
       ">     N --> O{Empty 5L jug}\n",
       ">     O --> P{Pour 3L jug into 5L jug}\n",
       ">     P --> Q{Fill 3L jug}\n",
       ">     Q --> R{Pour 3L jug into 5L jug until full}\n",
       ">     R --> S{Empty 5L jug}\n",
       ">     S --> T{Pour 3L jug into 5L jug}\n",
       ">     T --> U{Fill 3L jug}\n",
       ">     U --> V{Pour 3L jug into 5L jug until full}\n",
       ">     V --> W{Empty 5L jug}\n",
       ">     W --> X{Pour 3L jug into 5L jug}\n",
       ">     X --> Y{Fill 3L jug}\n",
       ">     Y --> Z{Pour 3L jug into 5L jug until full}\n",
       ">     Z --> A{Check if 4L is in 5L jug}\n",
       ">     A --> end{End}\n",
       "> ```"
      ],
      "text/plain": [
       "<IPython.core.display.Markdown object>"
      ]
     },
     "execution_count": 27,
     "metadata": {},
     "output_type": "execute_result"
    }
   ],
   "source": [
    "to_markdown(response.text)"
   ]
  },
  {
   "cell_type": "markdown",
   "metadata": {
    "id": "zsIZmCYVTDHD"
   },
   "source": [
    "## Chat conversations\n",
    "\n",
    "Gemini enables you to have freeform conversations across multiple turns. The `ChatSession` class simplifies the process by managing the state of the conversation, so unlike with `generate_content`, you do not have to store the conversation history as a list.\n",
    "\n",
    "Initialize the chat:"
   ]
  },
  {
   "cell_type": "code",
   "execution_count": 28,
   "metadata": {
    "colab": {
     "base_uri": "https://localhost:8080/"
    },
    "id": "y8B9Mwo-TCr2",
    "outputId": "9fdf3648-084a-46ed-8c58-e534734dcc19"
   },
   "outputs": [
    {
     "data": {
      "text/plain": [
       "ChatSession(\n",
       "    model=genai.GenerativeModel(\n",
       "        model_name='models/gemini-1.5-flash',\n",
       "        generation_config={},\n",
       "        safety_settings={},\n",
       "        tools=None,\n",
       "        system_instruction=None,\n",
       "    ),\n",
       "    history=[]\n",
       ")"
      ]
     },
     "execution_count": 28,
     "metadata": {},
     "output_type": "execute_result"
    }
   ],
   "source": [
    "model = genai.GenerativeModel('gemini-1.5-flash')\n",
    "chat = model.start_chat(history=[])\n",
    "chat"
   ]
  },
  {
   "cell_type": "markdown",
   "metadata": {
    "id": "5odluV7kKbgr"
   },
   "source": [
    "The `ChatSession.send_message` method returns the same `GenerateContentResponse` type as <a href=\"https://ai.google.dev/api/python/google/generativeai/GenerativeModel#generate_content\"><code>GenerativeModel.generate_content</code></a>. It also appends your message and the response to the chat history:"
   ]
  },
  {
   "cell_type": "code",
   "execution_count": 29,
   "metadata": {
    "colab": {
     "base_uri": "https://localhost:8080/",
     "height": 62
    },
    "id": "b72zbOEjKRxP",
    "outputId": "a9da188a-00c2-4a18-f95c-1f8499fe6055"
   },
   "outputs": [
    {
     "data": {
      "text/markdown": [
       "> A computer is like a super smart toy that follows your instructions and shows you cool things on its screen. \n"
      ],
      "text/plain": [
       "<IPython.core.display.Markdown object>"
      ]
     },
     "execution_count": 29,
     "metadata": {},
     "output_type": "execute_result"
    }
   ],
   "source": [
    "response = chat.send_message(\"In one sentence, explain how a computer works to a young child.\")\n",
    "to_markdown(response.text)"
   ]
  },
  {
   "cell_type": "code",
   "execution_count": 30,
   "metadata": {
    "colab": {
     "base_uri": "https://localhost:8080/"
    },
    "id": "5-5HS2bTOTU9",
    "outputId": "645d832d-f21e-4cf3-dcbd-637401ac5937"
   },
   "outputs": [
    {
     "data": {
      "text/plain": [
       "[parts {\n",
       "   text: \"In one sentence, explain how a computer works to a young child.\"\n",
       " }\n",
       " role: \"user\",\n",
       " parts {\n",
       "   text: \"A computer is like a super smart toy that follows your instructions and shows you cool things on its screen. \\n\"\n",
       " }\n",
       " role: \"model\"]"
      ]
     },
     "execution_count": 30,
     "metadata": {},
     "output_type": "execute_result"
    }
   ],
   "source": [
    "chat.history"
   ]
  },
  {
   "cell_type": "markdown",
   "metadata": {
    "id": "7JaiFSIvOcVb"
   },
   "source": [
    "You can keep sending messages to continue the conversation. Use the `stream=True` argument to stream the chat:"
   ]
  },
  {
   "cell_type": "code",
   "execution_count": 31,
   "metadata": {
    "colab": {
     "base_uri": "https://localhost:8080/",
     "height": 178
    },
    "id": "Vxku7mzSObfZ",
    "outputId": "90f6a40f-5968-4915-b0ed-1b8a7453018c"
   },
   "outputs": [
    {
     "name": "stdout",
     "output_type": "stream",
     "text": [
      "A\n",
      "________________________________________________________________________________\n",
      " computer is essentially a complex calculator that follows a set of instructions, called a program\n",
      "________________________________________________________________________________\n",
      ", to process data, perform calculations, and display results, all while interacting with\n",
      "________________________________________________________________________________\n",
      " the world through input devices like keyboards and output devices like screens. \n",
      "\n",
      "________________________________________________________________________________\n"
     ]
    }
   ],
   "source": [
    "response = chat.send_message(\"Okay, how about a more detailed explanation to a high schooler?\", stream=True)\n",
    "\n",
    "for chunk in response:\n",
    "  print(chunk.text)\n",
    "  print(\"_\"*80)"
   ]
  },
  {
   "cell_type": "markdown",
   "metadata": {
    "id": "AwCqtZ6D4kvk"
   },
   "source": [
    "`glm.Content` objects contain a list of `glm.Part` objects that each contain either a text (string) or inline_data (`glm.Blob`), where a blob contains binary data and a `mime_type`. The chat history is available as a list of `glm.Content` objects in `ChatSession.history`:"
   ]
  },
  {
   "cell_type": "code",
   "execution_count": 32,
   "metadata": {
    "colab": {
     "base_uri": "https://localhost:8080/",
     "height": 174
    },
    "id": "WvyTmbC2d0k3",
    "outputId": "9257863b-e6f8-4b15-a035-bcdd4ce88dc0"
   },
   "outputs": [
    {
     "data": {
      "text/markdown": [
       "> **user**: In one sentence, explain how a computer works to a young child."
      ],
      "text/plain": [
       "<IPython.core.display.Markdown object>"
      ]
     },
     "metadata": {},
     "output_type": "display_data"
    },
    {
     "data": {
      "text/markdown": [
       "> **model**: A computer is like a super smart toy that follows your instructions and shows you cool things on its screen. \n"
      ],
      "text/plain": [
       "<IPython.core.display.Markdown object>"
      ]
     },
     "metadata": {},
     "output_type": "display_data"
    },
    {
     "data": {
      "text/markdown": [
       "> **user**: Okay, how about a more detailed explanation to a high schooler?"
      ],
      "text/plain": [
       "<IPython.core.display.Markdown object>"
      ]
     },
     "metadata": {},
     "output_type": "display_data"
    },
    {
     "data": {
      "text/markdown": [
       "> **model**: A computer is essentially a complex calculator that follows a set of instructions, called a program, to process data, perform calculations, and display results, all while interacting with the world through input devices like keyboards and output devices like screens. \n"
      ],
      "text/plain": [
       "<IPython.core.display.Markdown object>"
      ]
     },
     "metadata": {},
     "output_type": "display_data"
    }
   ],
   "source": [
    "for message in chat.history:\n",
    "  display(to_markdown(f'**{message.role}**: {message.parts[0].text}'))"
   ]
  },
  {
   "cell_type": "markdown",
   "metadata": {
    "id": "AEgVOYu0pAr4"
   },
   "source": [
    "## Count tokens\n",
    "\n",
    "Large language models have a context window, and the context length is often measured in terms of the **number of tokens**. With the Gemini API, you can determine the number of tokens per any `glm.Content` object. In the simplest case, you can pass a query string to the `GenerativeModel.count_tokens` method as follows:"
   ]
  },
  {
   "cell_type": "code",
   "execution_count": 33,
   "metadata": {
    "colab": {
     "base_uri": "https://localhost:8080/",
     "height": 35
    },
    "id": "eLjBmPCLpElk",
    "outputId": "a1ad7c79-7ae0-4ec5-c09a-a66714dde927"
   },
   "outputs": [
    {
     "data": {
      "text/plain": [
       "total_tokens: 11"
      ]
     },
     "execution_count": 33,
     "metadata": {},
     "output_type": "execute_result"
    }
   ],
   "source": [
    "model.count_tokens(\"Explain what is Mermaid JS and tell its use cases?\")"
   ]
  },
  {
   "cell_type": "markdown",
   "metadata": {
    "id": "oM2_U8pmpHQA"
   },
   "source": [
    "Similarly, you can check `token_count` for your `ChatSession`:"
   ]
  },
  {
   "cell_type": "code",
   "execution_count": 34,
   "metadata": {
    "colab": {
     "base_uri": "https://localhost:8080/",
     "height": 35
    },
    "id": "i0MUU4BZpG4_",
    "outputId": "285cedbe-98b9-493a-d876-826f9b82a592"
   },
   "outputs": [
    {
     "data": {
      "text/plain": [
       "total_tokens: 103"
      ]
     },
     "execution_count": 34,
     "metadata": {},
     "output_type": "execute_result"
    }
   ],
   "source": [
    "model.count_tokens(chat.history)"
   ]
  },
  {
   "cell_type": "markdown",
   "metadata": {
    "id": "f9bU0J3vUIbz"
   },
   "source": [
    "## Use embeddings"
   ]
  },
  {
   "cell_type": "markdown",
   "metadata": {
    "id": "BpHIRU5bj7aW"
   },
   "source": [
    "[Embedding](https://developers.google.com/machine-learning/glossary#embedding-vector) is a technique used to represent information as a list of floating point numbers in an array. With Gemini, you can represent text (words, sentences, and blocks of text) in a vectorized form, making it easier to compare and contrast embeddings. For example, two texts that share a similar subject matter or sentiment should have similar embeddings, which can be identified through mathematical comparison techniques such as cosine similarity. For more on how and why you should use embeddings, refer to the [Embeddings guide](https://ai.google.dev/docs/embeddings_guide).\n",
    "\n",
    "Use the `embed_content` method to generate embeddings. The method handles embedding for the following tasks (`task_type`):\n",
    "\n",
    "Task Type | Description\n",
    "---       | ---\n",
    "RETRIEVAL_QUERY\t| Specifies the given text is a query in a search/retrieval setting.\n",
    "RETRIEVAL_DOCUMENT | Specifies the given text is a document in a search/retrieval setting. Using this task type requires a `title`.\n",
    "SEMANTIC_SIMILARITY\t| Specifies the given text will be used for Semantic Textual Similarity (STS).\n",
    "CLASSIFICATION\t| Specifies that the embeddings will be used for classification.\n",
    "CLUSTERING\t| Specifies that the embeddings will be used for clustering.\n",
    "\n",
    "The following generates an embedding for a single string for document retrieval:"
   ]
  },
  {
   "cell_type": "code",
   "execution_count": 35,
   "metadata": {
    "colab": {
     "base_uri": "https://localhost:8080/",
     "height": 35
    },
    "id": "hskqSKnJUHvp",
    "outputId": "495c80ff-8899-48da-8941-02ebbc1e7904"
   },
   "outputs": [
    {
     "name": "stdout",
     "output_type": "stream",
     "text": [
      "[-0.028545432, 0.044588123, -0.03419736, -0.004266 ... TRIMMED]\n"
     ]
    }
   ],
   "source": [
    "result = genai.embed_content(\n",
    "    model=\"models/text-embedding-004\",\n",
    "    content=\"What is the meaning of life?\",\n",
    "    task_type=\"retrieval_document\",\n",
    "    title=\"Embedding of single string\")\n",
    "\n",
    "# 1 input > 1 vector output\n",
    "print(str(result['embedding'])[:50], '... TRIMMED]')"
   ]
  },
  {
   "cell_type": "markdown",
   "metadata": {
    "id": "OcSc3KfflBCQ"
   },
   "source": [
    "Note: The `retrieval_document` task type is the only task that accepts a title.\n",
    "\n",
    "To handle batches of strings, pass a list of strings in `content`:"
   ]
  },
  {
   "cell_type": "code",
   "execution_count": 36,
   "metadata": {
    "colab": {
     "base_uri": "https://localhost:8080/",
     "height": 71
    },
    "id": "OnyD-Joik8LE",
    "outputId": "77e21bb3-bed9-4fca-b400-9b488c3491f4"
   },
   "outputs": [
    {
     "name": "stdout",
     "output_type": "stream",
     "text": [
      "[-0.036453035, 0.03325499, -0.03970925, -0.0026286 ... TRIMMED ...\n",
      "[-0.01591948, 0.032582667, -0.081024624, -0.011298 ... TRIMMED ...\n",
      "[0.00037063262, 0.03763057, -0.12269569, -0.009518 ... TRIMMED ...\n"
     ]
    }
   ],
   "source": [
    "result = genai.embed_content(\n",
    "    model=\"models/text-embedding-004\",\n",
    "    content=[\n",
    "      'What is the meaning of life?',\n",
    "      'How much wood would a woodchuck chuck?',\n",
    "      'How does the brain work?'],\n",
    "    task_type=\"retrieval_document\",\n",
    "    title=\"Embedding of list of strings\")\n",
    "\n",
    "# A list of inputs > A list of vectors output\n",
    "for v in result['embedding']:\n",
    "  print(str(v)[:50], '... TRIMMED ...')"
   ]
  },
  {
   "cell_type": "markdown",
   "metadata": {
    "id": "zBg0eNeml3d4"
   },
   "source": [
    "While the `genai.embed_content` function accepts simple strings or lists of strings, it is actually built around the `glm.Content` type (like <a href=\"https://ai.google.dev/api/python/google/generativeai/GenerativeModel#generate_content\"><code>GenerativeModel.generate_content</code></a>). `glm.Content` objects are the primary units of conversation in the API.\n",
    "\n",
    "While the `glm.Content` object is multimodal, the `embed_content` method only supports text embeddings. This design gives the API the *possibility* to expand to multimodal embeddings."
   ]
  },
  {
   "cell_type": "code",
   "execution_count": 37,
   "metadata": {
    "colab": {
     "base_uri": "https://localhost:8080/"
    },
    "id": "1-wmapZznXrm",
    "outputId": "244317e2-995a-4116-cffd-15cb24d0e1ca"
   },
   "outputs": [
    {
     "data": {
      "text/plain": [
       "parts {\n",
       "  text: \"A computer is essentially a complex calculator that follows a set of instructions, called a program, to process data, perform calculations, and display results, all while interacting with the world through input devices like keyboards and output devices like screens. \\n\"\n",
       "}\n",
       "role: \"model\""
      ]
     },
     "execution_count": 37,
     "metadata": {},
     "output_type": "execute_result"
    }
   ],
   "source": [
    "response.candidates[0].content"
   ]
  },
  {
   "cell_type": "code",
   "execution_count": 38,
   "metadata": {
    "colab": {
     "base_uri": "https://localhost:8080/",
     "height": 35
    },
    "id": "cvX5jsrcnufk",
    "outputId": "fff98eb7-80c4-4639-9f29-f90258908576"
   },
   "outputs": [
    {
     "name": "stdout",
     "output_type": "stream",
     "text": [
      "[0.03312565, 0.0243179, -0.031792443, -0.022744711 ... TRIMMED ...\n"
     ]
    }
   ],
   "source": [
    "result = genai.embed_content(\n",
    "    model = 'models/text-embedding-004',\n",
    "    content = response.candidates[0].content)\n",
    "\n",
    "# 1 input > 1 vector output\n",
    "print(str(result['embedding'])[:50], '... TRIMMED ...')"
   ]
  },
  {
   "cell_type": "markdown",
   "metadata": {
    "id": "jU8juHCxoUKG"
   },
   "source": [
    "Similarly, the chat history contains a list of `glm.Content` objects, which you can pass directly to the `embed_content` function:"
   ]
  },
  {
   "cell_type": "code",
   "execution_count": 39,
   "metadata": {
    "colab": {
     "base_uri": "https://localhost:8080/"
    },
    "id": "ur5ajPsdnCON",
    "outputId": "12d31a19-3483-4d93-f0cf-24174a1800ff"
   },
   "outputs": [
    {
     "data": {
      "text/plain": [
       "[parts {\n",
       "   text: \"In one sentence, explain how a computer works to a young child.\"\n",
       " }\n",
       " role: \"user\",\n",
       " parts {\n",
       "   text: \"A computer is like a super smart toy that follows your instructions and shows you cool things on its screen. \\n\"\n",
       " }\n",
       " role: \"model\",\n",
       " parts {\n",
       "   text: \"Okay, how about a more detailed explanation to a high schooler?\"\n",
       " }\n",
       " role: \"user\",\n",
       " parts {\n",
       "   text: \"A computer is essentially a complex calculator that follows a set of instructions, called a program, to process data, perform calculations, and display results, all while interacting with the world through input devices like keyboards and output devices like screens. \\n\"\n",
       " }\n",
       " role: \"model\"]"
      ]
     },
     "execution_count": 39,
     "metadata": {},
     "output_type": "execute_result"
    }
   ],
   "source": [
    "chat.history"
   ]
  },
  {
   "cell_type": "code",
   "execution_count": 40,
   "metadata": {
    "colab": {
     "base_uri": "https://localhost:8080/",
     "height": 88
    },
    "id": "Z3xDB1hwof96",
    "outputId": "68a91122-d6fc-4c0e-b2e5-88bba82a35e3"
   },
   "outputs": [
    {
     "name": "stdout",
     "output_type": "stream",
     "text": [
      "[-0.03417175, 0.005179209, -0.054957863, -0.030872 ... TRIMMED...\n",
      "[-0.05000688, 0.03731681, -0.02178283, 0.002887704 ... TRIMMED...\n",
      "[0.032410417, 0.036596797, -0.04735078, -0.0301925 ... TRIMMED...\n",
      "[0.03312565, 0.0243179, -0.031792443, -0.022744711 ... TRIMMED...\n"
     ]
    }
   ],
   "source": [
    "result = genai.embed_content(\n",
    "    model = 'models/text-embedding-004',\n",
    "    content = chat.history)\n",
    "\n",
    "# 1 input > 1 vector output\n",
    "for i,v in enumerate(result['embedding']):\n",
    "  print(str(v)[:50], '... TRIMMED...')"
   ]
  },
  {
   "cell_type": "markdown",
   "metadata": {
    "id": "vuz9-TWDzdlb"
   },
   "source": [
    "## Advanced use cases\n",
    "\n",
    "The following sections discuss advanced use cases and lower-level details of the Python SDK for the Gemini API."
   ]
  },
  {
   "cell_type": "markdown",
   "metadata": {
    "id": "o5FWJPSD1qFE"
   },
   "source": [
    "### Safety settings\n",
    "\n",
    "The `safety_settings` argument lets you configure what the model blocks and allows in both prompts and responses. By default, safety settings block content with medium and/or high probability of being unsafe content across all dimensions. Learn more about [Safety settings](https://ai.google.dev/docs/safety_setting).\n",
    "\n",
    "Enter a questionable prompt and run the model with the default safety settings, and it will not return any candidates:"
   ]
  },
  {
   "cell_type": "code",
   "execution_count": 41,
   "metadata": {
    "colab": {
     "base_uri": "https://localhost:8080/",
     "height": 553
    },
    "id": "VR1fp12I1yH0",
    "outputId": "69ed578d-5228-41cc-b5b8-835149fead08"
   },
   "outputs": [
    {
     "data": {
      "text/plain": [
       "[index: 0\n",
       "content {\n",
       "  parts {\n",
       "    text: \"Let\\'s discuss whether Mermaid.js is genuinely useful, and when it might be a good fit for your projects.\\n\\n**What is Mermaid.js?**\\n\\nMermaid.js is a JavaScript library that lets you create diagrams and flowcharts using a simple, text-based syntax. It then renders these diagrams beautifully in your web pages. It\\'s particularly handy for:\\n\\n* **Flowcharts:** Representing processes, workflows, and algorithms.\\n* **Sequence Diagrams:** Showing interactions between objects or components.\\n* **Gantt Charts:** Visualizing project timelines and tasks.\\n* **Class Diagrams:** Modeling object-oriented structures.\\n* **State Diagrams:** Depicting the states of a system and transitions between them.\\n\\n**Why Mermaid.js Might be Useful:**\\n\\n* **Simplicity:**  Its syntax is easy to learn, especially for people familiar with Markdown.\\n* **Lightweight:** It\\'s relatively small, making it easy to include in your projects.\\n* **Dynamic:**  Diagrams can be updated dynamically based on user input or data changes.\\n* **Versatile:** Handles a wide range of diagram types.\\n* **Open Source:**  It\\'s free to use and modify, giving you flexibility.\\n\\n**When Mermaid.js Might Not Be the Best Choice:**\\n\\n* **Complex, Highly Customized Diagrams:**  If you need extreme control over every detail and style, dedicated diagramming tools might offer more options.\\n* **Real-Time Collaboration:**  While Mermaid.js can be used in real-time collaboration scenarios, it might not be the most optimal solution for complex, simultaneous editing.\\n* **Performance-Critical Apps:**  In very demanding web applications, the rendering performance of Mermaid.js could be a concern.\\n\\n**Who Benefits Most from Mermaid.js?**\\n\\n* **Developers:**  For documentation, design reviews, and internal project communication.\\n* **Technical Writers:**  For creating clear and visually appealing documentation.\\n* **Data Analysts:**  For visualizing relationships and trends in data.\\n* **Project Managers:**  For tracking project progress and dependencies.\\n\\n**In Conclusion**\\n\\nMermaid.js is a versatile and valuable tool for creating diagrams in web applications. It\\'s particularly useful for its simplicity, lightweight nature, and ability to handle various diagram types. Whether it\\'s the right fit for your project depends on your specific needs and the complexity of your diagrams. \\n\\nIf you\\'re considering using Mermaid.js, experiment with it to see if it meets your requirements. There are plenty of online editors and examples to help you get started. \\n\"\n",
       "  }\n",
       "  role: \"model\"\n",
       "}\n",
       "finish_reason: STOP\n",
       "safety_ratings {\n",
       "  category: HARM_CATEGORY_SEXUALLY_EXPLICIT\n",
       "  probability: NEGLIGIBLE\n",
       "}\n",
       "safety_ratings {\n",
       "  category: HARM_CATEGORY_HATE_SPEECH\n",
       "  probability: NEGLIGIBLE\n",
       "}\n",
       "safety_ratings {\n",
       "  category: HARM_CATEGORY_HARASSMENT\n",
       "  probability: NEGLIGIBLE\n",
       "}\n",
       "safety_ratings {\n",
       "  category: HARM_CATEGORY_DANGEROUS_CONTENT\n",
       "  probability: NEGLIGIBLE\n",
       "}\n",
       "]"
      ]
     },
     "execution_count": 41,
     "metadata": {},
     "output_type": "execute_result"
    }
   ],
   "source": [
    "response = model.generate_content('[Is mermaid js really useful?]')\n",
    "response.candidates"
   ]
  },
  {
   "cell_type": "markdown",
   "metadata": {
    "id": "31Q8kAItGLOU"
   },
   "source": [
    "The `prompt_feedback` will tell you which safety filter blocked the prompt:"
   ]
  },
  {
   "cell_type": "code",
   "execution_count": 42,
   "metadata": {
    "colab": {
     "base_uri": "https://localhost:8080/"
    },
    "id": "GMUvWNkZ11x4",
    "outputId": "2e1b4bb9-37f7-4937-a7f0-d46b155fd64b"
   },
   "outputs": [
    {
     "data": {
      "text/plain": []
     },
     "execution_count": 42,
     "metadata": {},
     "output_type": "execute_result"
    }
   ],
   "source": [
    "response.prompt_feedback"
   ]
  },
  {
   "cell_type": "markdown",
   "metadata": {
    "id": "YtPC1Fo514ec"
   },
   "source": [
    "Now provide the same prompt to the model with newly configured safety settings, and you may get a response."
   ]
  },
  {
   "cell_type": "code",
   "execution_count": 43,
   "metadata": {
    "colab": {
     "base_uri": "https://localhost:8080/",
     "height": 125
    },
    "id": "0UIt5LKp16jL",
    "outputId": "57e8f9f9-cd49-419a-bb4e-5d02f93036c5"
   },
   "outputs": [
    {
     "data": {
      "text/plain": [
       "\"## Is Mermaid.js Really Useful?\\n\\nMermaid.js is a powerful tool, and its usefulness depends on your needs and context. Here's a breakdown:\\n\\n**Pros:**\\n\\n* **Easy to learn and use:** Its simple syntax and intuitive design make it accessible to beginners.\\n* **Versatile:** It supports various diagram types, including flowcharts, sequence diagrams, Gantt charts, state diagrams, class diagrams, entity relationship diagrams, and more.\\n* **Interactive and dynamic:** You can create interactive diagrams that respond to user input.\\n* **Integration:** It seamlessly integrates with popular tools like Markdown, Jekyll, and GitLab.\\n* **Open-source and free:** You can use it without any licensing costs.\\n\\n**Cons:**\\n\\n* **Limited features compared to professional tools:** While versatile, Mermaid.js lacks the advanced customization and features found in dedicated diagramming software.\\n* **Not ideal for complex diagrams:**  For extremely intricate diagrams, other tools might be better suited.\\n* **Limited customization:**  You might need to write additional code for specific styling or behaviors.\\n* **Potential for browser compatibility issues:**  Ensure your audience has a compatible browser for optimal display.\\n\\n**Use Cases:**\\n\\n* **Documentation:**  Creating clear and concise diagrams for explaining processes, workflows, and software architectures.\\n* **Presentations:**  Visually illustrating concepts and data for impactful presentations.\\n* **Technical communication:**  Sharing complex information in a readily understandable format.\\n* **Project management:**  Visualizing tasks, dependencies, and timelines in Gantt charts.\\n* **Software development:**  Designing software architectures, visualizing system flows, and documenting code.\\n\\n**Alternatives:**\\n\\n* **Lucidchart:**  Powerful online diagramming tool with rich features and collaboration capabilities.\\n* **Draw.io:**  Free and open-source diagramming tool with integration into various platforms.\\n* **Microsoft Visio:**  Professional diagramming software with extensive features and templates.\\n\\n**Conclusion:**\\n\\nMermaid.js is a valuable tool for creating clear and concise diagrams for various purposes. Its ease of use, versatility, and integration make it a great choice for documentation, presentations, and technical communication.  However, for advanced or complex diagrams, you might consider other tools with more features and customization options.\\n\\nUltimately, the usefulness of Mermaid.js depends on your specific needs and the complexity of the diagrams you require. \\n\""
      ]
     },
     "execution_count": 43,
     "metadata": {},
     "output_type": "execute_result"
    }
   ],
   "source": [
    "response = model.generate_content('[Is mermaid JS really useful]',\n",
    "                                  safety_settings={'HARASSMENT':'block_none'})\n",
    "response.text"
   ]
  },
  {
   "cell_type": "markdown",
   "metadata": {
    "id": "WE_f5EruGUnj"
   },
   "source": [
    "Also note that each candidate has its own `safety_ratings`, in case the prompt passes but the individual responses fail the safety checks."
   ]
  },
  {
   "cell_type": "markdown",
   "metadata": {
    "id": "Ipa-8leY6wsK"
   },
   "source": [
    "### Encode messages"
   ]
  },
  {
   "cell_type": "markdown",
   "metadata": {
    "id": "3r47nsUOn6YY"
   },
   "source": [
    "The previous sections relied on the SDK to make it easy for you to send prompts to the API. This section offers a fully-typed equivalent to the previous example, so you can better understand the lower-level details regarding how the SDK encodes messages."
   ]
  },
  {
   "cell_type": "markdown",
   "metadata": {
    "id": "-fthdIItnqki"
   },
   "source": [
    "Underlying the Python SDK is the <a href=\"https://ai.google.dev/api/python/google/ai/generativelanguage\"><code>google.ai.generativelanguage</code></a> client library:"
   ]
  },
  {
   "cell_type": "code",
   "execution_count": 44,
   "metadata": {
    "id": "l6aafWECnpX6"
   },
   "outputs": [],
   "source": [
    "import google.ai.generativelanguage as glm"
   ]
  },
  {
   "cell_type": "markdown",
   "metadata": {
    "id": "gm1RWcB3n_n0"
   },
   "source": [
    "The SDK attempts to convert your message to a `glm.Content` object, which contains a list of `glm.Part` objects that each contain either:\n",
    "\n",
    "1. a <a href=\"https://www.tensorflow.org/text/api_docs/python/text\"><code>text</code></a> (string)\n",
    "2. `inline_data` (`glm.Blob`), where a blob contains binary `data` and a `mime_type`.\n",
    "\n",
    "You can also pass any of these classes as an equivalent dictionary.\n",
    "\n",
    "Note: The only accepted mime types are some image types, `image/*`.\n",
    "\n",
    "So, the fully-typed equivalent to the previous example is:  "
   ]
  },
  {
   "cell_type": "code",
   "execution_count": 46,
   "metadata": {
    "id": "IqFXdgDFRvlU"
   },
   "outputs": [],
   "source": [
    "model = genai.GenerativeModel('gemini-1.5-flash')\n",
    "response = model.generate_content(\n",
    "    glm.Content(\n",
    "        parts = [\n",
    "            glm.Part(text=\"Write a short, engaging blog post based on this picture.\"),\n",
    "            glm.Part(\n",
    "                inline_data=glm.Blob(\n",
    "                    mime_type='image/jpeg',\n",
    "                    data=pathlib.Path('water-jug.jpeg').read_bytes()\n",
    "                )\n",
    "            ),\n",
    "        ],\n",
    "    ),\n",
    "    stream=True)"
   ]
  },
  {
   "cell_type": "code",
   "execution_count": 47,
   "metadata": {
    "colab": {
     "base_uri": "https://localhost:8080/",
     "height": 98
    },
    "id": "wKithEbeRzDX",
    "outputId": "98fec90f-aa5b-4bbf-dfb2-058220b1c12b"
   },
   "outputs": [
    {
     "data": {
      "text/markdown": [
       "> ##  Is This Math Even Possible? \n",
       "> \n",
       "> This image claims to show the result of adding a 5-liter jug and a... [TRIMMED] ..."
      ],
      "text/plain": [
       "<IPython.core.display.Markdown object>"
      ]
     },
     "execution_count": 47,
     "metadata": {},
     "output_type": "execute_result"
    }
   ],
   "source": [
    "response.resolve()\n",
    "\n",
    "to_markdown(response.text[:100] + \"... [TRIMMED] ...\")"
   ]
  },
  {
   "cell_type": "code",
   "execution_count": 49,
   "metadata": {},
   "outputs": [
    {
     "data": {
      "text/markdown": [
       "> ##  Is This Math Even Possible? \n",
       "> \n",
       "> This image claims to show the result of adding a 5-liter jug and a 3-liter jug, with the result being a 4-liter jug.  Clearly, this is impossible.  A simple understanding of addition tells us that 5 + 3 = 8, not 4. So what's going on here? \n",
       "> \n",
       "> It seems like someone is trying to trick us with a visual illusion.  While the jugs are presented as different sizes, they might not be accurately representing the amount of liquid they hold. \n",
       "> \n",
       "> Let's remember that appearances can be deceiving. When dealing with numbers, always rely on the actual calculations rather than relying on a picture to tell the story. \n"
      ],
      "text/plain": [
       "<IPython.core.display.Markdown object>"
      ]
     },
     "execution_count": 49,
     "metadata": {},
     "output_type": "execute_result"
    }
   ],
   "source": [
    "to_markdown(response.text)"
   ]
  },
  {
   "cell_type": "markdown",
   "metadata": {
    "id": "MBqknExlzn0k"
   },
   "source": [
    "### Multi-turn conversations\n",
    "\n",
    "While the `genai.ChatSession` class shown earlier can handle many use cases, it does make some assumptions. If your use case doesn't fit into this chat implementation it's good to remember that `genai.ChatSession` is just a wrapper around <a href=\"https://ai.google.dev/api/python/google/generativeai/GenerativeModel#generate_content\"><code>GenerativeModel.generate_content</code></a>. In addition to single requests, it can handle multi-turn conversations.\n",
    "\n",
    "The individual messages are `glm.Content` objects or compatible dictionaries, as seen in previous sections. As a dictionary, the message requires `role` and `parts` keys. The `role` in a conversation can either be the `user`, which provides the prompts, or `model`, which provides the responses.\n",
    "\n",
    "Pass a list of `glm.Content` objects and it will be treated as multi-turn chat:"
   ]
  },
  {
   "cell_type": "code",
   "execution_count": 50,
   "metadata": {
    "colab": {
     "base_uri": "https://localhost:8080/",
     "height": 202
    },
    "id": "LtfwMa0HzvZL",
    "outputId": "55a2e9fb-1360-480f-f517-a1ac848b1b7d"
   },
   "outputs": [
    {
     "data": {
      "text/markdown": [
       "> Imagine a computer like a really smart toy that can do lots of things! It has a brain called a **CPU** which is like your own brain. It can follow instructions and make decisions.\n",
       "> \n",
       "> The computer also has a special box called **memory** where it stores all the information it needs to work, like a big notebook.\n",
       "> \n",
       "> To talk to the computer, you use something called a **keyboard** or a **mouse**. It's like telling your toy what to do!\n",
       "> \n",
       "> The computer also has a special screen called a **monitor** to show you all the things it's doing, just like a TV.\n",
       "> \n",
       "> When you type something on the keyboard or click the mouse, the computer's brain reads your instructions and does what you ask. It can draw pictures, play games, or even show you videos!\n",
       "> \n",
       "> So, a computer is a really smart toy that can do amazing things, but it needs your instructions to know what to do! \n"
      ],
      "text/plain": [
       "<IPython.core.display.Markdown object>"
      ]
     },
     "execution_count": 50,
     "metadata": {},
     "output_type": "execute_result"
    }
   ],
   "source": [
    "model = genai.GenerativeModel('gemini-1.5-flash')\n",
    "\n",
    "messages = [\n",
    "    {'role':'user',\n",
    "     'parts': [\"Briefly explain how a computer works to a young child.\"]}\n",
    "]\n",
    "response = model.generate_content(messages)\n",
    "\n",
    "to_markdown(response.text)"
   ]
  },
  {
   "cell_type": "markdown",
   "metadata": {
    "id": "3mqqiDJvzyac"
   },
   "source": [
    "To continue the conversation, add the response and another message.\n",
    "\n",
    "Note: For multi-turn conversations, you need to send the whole conversation history with each request. The API is **stateless**."
   ]
  },
  {
   "cell_type": "code",
   "execution_count": 51,
   "metadata": {
    "colab": {
     "base_uri": "https://localhost:8080/",
     "height": 665
    },
    "id": "MBxsZBxcz5Ik",
    "outputId": "414ace7f-6022-4ff3-bee6-ebcff865dd10"
   },
   "outputs": [
    {
     "data": {
      "text/markdown": [
       "> Here's a more detailed explanation for a high school student:\n",
       "> \n",
       "> A computer is essentially a complex machine that processes information. It works by combining hardware and software:\n",
       "> \n",
       "> **Hardware:**\n",
       "> \n",
       "> * **CPU (Central Processing Unit):** This is the \"brain\" of the computer, responsible for executing instructions and performing calculations. It's like the control center that makes all the decisions.\n",
       "> * **Memory (RAM):** This is like the computer's short-term memory. It holds data and instructions that are currently being used by the CPU. Think of it as the information you have readily available on your desk.\n",
       "> * **Storage (Hard Drive/SSD):** This is the computer's long-term memory. It stores all the programs and data you need, even when the computer is turned off. Think of it like the filing cabinet that holds all your documents.\n",
       "> * **Input Devices (Keyboard, Mouse):** These are how you interact with the computer. They allow you to input information and commands.\n",
       "> * **Output Devices (Monitor, Speakers):** These are how the computer displays and communicates information back to you.\n",
       "> \n",
       "> **Software:**\n",
       "> \n",
       "> * **Operating System (OS):** This is the software that manages all the hardware and allows you to interact with the computer. Think of it as the conductor of an orchestra, making sure everything runs smoothly.\n",
       "> * **Applications (Programs):** These are the software tools that allow you to do specific tasks, like browsing the internet, creating documents, or playing games.\n",
       "> \n",
       "> **How it Works:**\n",
       "> \n",
       "> 1. **Input:** You enter information using input devices, like typing on a keyboard or clicking a mouse.\n",
       "> 2. **Processing:** The CPU receives the information and processes it based on instructions from software.\n",
       "> 3. **Output:** The processed information is displayed on output devices like a monitor or speakers.\n",
       "> 4. **Storage:**  Information is stored in the computer's memory (RAM) for temporary use, or on the hard drive for long-term storage.\n",
       "> \n",
       "> **In simple terms:**\n",
       "> \n",
       "> Think of a computer as a tool that follows instructions. The CPU is the brain that executes those instructions. The software provides the instructions, and the hardware provides the physical components to carry them out. Together, they create a complex system that allows us to process information and perform countless tasks. \n"
      ],
      "text/plain": [
       "<IPython.core.display.Markdown object>"
      ]
     },
     "execution_count": 51,
     "metadata": {},
     "output_type": "execute_result"
    }
   ],
   "source": [
    "messages.append({'role':'model',\n",
    "                 'parts':[response.text]})\n",
    "\n",
    "messages.append({'role':'user',\n",
    "                 'parts':[\"Okay, how about a more detailed explanation to a high school student?\"]})\n",
    "\n",
    "response = model.generate_content(messages)\n",
    "\n",
    "to_markdown(response.text)"
   ]
  },
  {
   "cell_type": "markdown",
   "metadata": {
    "id": "4spL8SJ10ir7"
   },
   "source": [
    "### Generation configuration\n",
    "\n",
    "The `generation_config` argument allows you to modify the generation parameters. Every prompt you send to the model includes parameter values that control how the model generates responses."
   ]
  },
  {
   "cell_type": "code",
   "execution_count": 52,
   "metadata": {
    "id": "gE7I9Anl0ud7"
   },
   "outputs": [],
   "source": [
    "model = genai.GenerativeModel('gemini-1.5-flash')\n",
    "response = model.generate_content(\n",
    "    'Tell me a story about a magic backpack.',\n",
    "    generation_config=genai.types.GenerationConfig(\n",
    "        # Only one candidate for now.\n",
    "        candidate_count=1,\n",
    "        stop_sequences=['x'],\n",
    "        temperature=1.0)\n",
    ")"
   ]
  },
  {
   "cell_type": "code",
   "execution_count": 53,
   "metadata": {
    "colab": {
     "base_uri": "https://localhost:8080/",
     "height": 62
    },
    "id": "0fbab01e8fcf",
    "outputId": "c1dedd13-0bf9-456a-e13d-2e0e1d446895"
   },
   "outputs": [
    {
     "data": {
      "text/markdown": [
       "> Elara, a girl with eyes the color of storm clouds and hair like spun moonlight, had always dreamed of adventure. Her small village nestled in the valley, surrounded by mountains that touched the sky, felt too small for her restless heart. One day, while e"
      ],
      "text/plain": [
       "<IPython.core.display.Markdown object>"
      ]
     },
     "execution_count": 53,
     "metadata": {},
     "output_type": "execute_result"
    }
   ],
   "source": [
    "text = response.text\n",
    "to_markdown(text)"
   ]
  },
  {
   "cell_type": "markdown",
   "metadata": {
    "id": "2qt6Yj2JRf-0"
   },
   "source": [
    "## What's next\n",
    "\n",
    "-   Prompt design is the process of creating prompts that elicit the desired response from language models. Writing well structured prompts is an essential part of ensuring accurate, high quality responses from a language model. Learn about best practices for [prompt writing](https://ai.google.dev/docs/prompt_best_practices).\n",
    "-   Gemini offers several model variations to meet the needs of different use cases, such as input types and complexity, implementations for chat or other dialog language tasks, and size constraints. Learn about the available [Gemini models](https://ai.google.dev/models/gemini).\n",
    "-   Gemini offers options for requesting [rate limit increases](https://ai.google.dev/docs/increase_quota). The rate limit for Gemini-Pro models is 60 requests per minute (RPM)."
   ]
  }
 ],
 "metadata": {
  "colab": {
   "name": "python.ipynb",
   "provenance": []
  },
  "google": {
   "image_path": "/static/site-assets/images/docs/logo-python.svg",
   "keywords": [
    "examples",
    "gemini",
    "beginner",
    "googleai",
    "quickstart",
    "python",
    "text",
    "chat",
    "vision",
    "embed"
   ]
  },
  "kernelspec": {
   "display_name": "Python 3 (ipykernel)",
   "language": "python",
   "name": "python3"
  },
  "language_info": {
   "codemirror_mode": {
    "name": "ipython",
    "version": 3
   },
   "file_extension": ".py",
   "mimetype": "text/x-python",
   "name": "python",
   "nbconvert_exporter": "python",
   "pygments_lexer": "ipython3",
   "version": "3.12.2"
  }
 },
 "nbformat": 4,
 "nbformat_minor": 4
}
