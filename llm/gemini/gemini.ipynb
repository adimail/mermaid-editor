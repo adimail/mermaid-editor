{
 "cells": [
  {
   "cell_type": "markdown",
   "metadata": {
    "id": "Tce3stUlHN0L"
   },
   "source": [
    "# Mermaid AI demonstration"
   ]
  },
  {
   "cell_type": "code",
   "execution_count": 1,
   "metadata": {
    "id": "9OEoeosRTv-5"
   },
   "outputs": [],
   "source": [
    "!pip3 install -q -U google-generativeai"
   ]
  },
  {
   "cell_type": "code",
   "execution_count": 2,
   "metadata": {
    "id": "TS9l5igubpHO"
   },
   "outputs": [],
   "source": [
    "import pathlib\n",
    "import textwrap\n",
    "\n",
    "import google.generativeai as genai\n",
    "\n",
    "from IPython.display import display\n",
    "from IPython.display import Markdown\n",
    "\n",
    "\n",
    "def to_markdown(text):\n",
    "  text = text.replace('•', '  *')\n",
    "  return Markdown(textwrap.indent(text, '> ', predicate=lambda _: True))"
   ]
  },
  {
   "cell_type": "code",
   "execution_count": 3,
   "metadata": {},
   "outputs": [
    {
     "name": "stdout",
     "output_type": "stream",
     "text": [
      "Requirement already satisfied: python-dotenv in /Library/Frameworks/Python.framework/Versions/3.12/lib/python3.12/site-packages (1.0.1)\n",
      "Note: you may need to restart the kernel to use updated packages.\n"
     ]
    }
   ],
   "source": [
    "pip install python-dotenv"
   ]
  },
  {
   "cell_type": "code",
   "execution_count": 4,
   "metadata": {},
   "outputs": [],
   "source": [
    "from dotenv import load_dotenv\n",
    "import os\n",
    "\n",
    "load_dotenv()\n",
    "\n",
    "api_key = os.getenv('API_KEY')"
   ]
  },
  {
   "cell_type": "code",
   "execution_count": 5,
   "metadata": {
    "id": "ab9ASynfcIZn"
   },
   "outputs": [],
   "source": [
    "genai.configure(api_key=api_key)"
   ]
  },
  {
   "cell_type": "markdown",
   "metadata": {
    "id": "8ssbTMNVSMd-"
   },
   "source": [
    "## Avaliable models\n",
    "\n",
    "* `gemini-1.5-pro`: optimized for high intelligence tasks, the most powerful Gemini model\n",
    "* `gemini-1.5-flash`: optimized for multi-modal use-cases where speed and cost are important"
   ]
  },
  {
   "cell_type": "code",
   "execution_count": 6,
   "metadata": {
    "colab": {
     "base_uri": "https://localhost:8080/",
     "height": 231
    },
    "id": "QvvWFy08e5c5",
    "outputId": "2bfb7e2f-d4b3-43f9-91b5-45a4492b0d68"
   },
   "outputs": [
    {
     "name": "stdout",
     "output_type": "stream",
     "text": [
      "models/gemini-1.0-pro\n",
      "models/gemini-1.0-pro-001\n",
      "models/gemini-1.0-pro-latest\n",
      "models/gemini-1.0-pro-vision-latest\n",
      "models/gemini-1.5-flash\n",
      "models/gemini-1.5-flash-001\n",
      "models/gemini-1.5-flash-latest\n",
      "models/gemini-1.5-pro\n",
      "models/gemini-1.5-pro-001\n",
      "models/gemini-1.5-pro-latest\n",
      "models/gemini-pro\n",
      "models/gemini-pro-vision\n"
     ]
    }
   ],
   "source": [
    "for m in genai.list_models():\n",
    "  if 'generateContent' in m.supported_generation_methods:\n",
    "    print(m.name)"
   ]
  },
  {
   "cell_type": "markdown",
   "metadata": {
    "id": "LZfoK3I3hu6V"
   },
   "source": [
    "## Generate text from text inputs\n",
    "\n",
    "For text-only prompts, use the `gemini-pro` model:"
   ]
  },
  {
   "cell_type": "code",
   "execution_count": 7,
   "metadata": {
    "id": "2bcfnGEviwTI"
   },
   "outputs": [],
   "source": [
    "model = genai.GenerativeModel('gemini-1.5-flash')"
   ]
  },
  {
   "cell_type": "markdown",
   "metadata": {
    "id": "WR_2A_sxk8sK"
   },
   "source": [
    "The `generate_content` method can handle a wide variety of use cases, including multi-turn chat and multimodal input, depending on what the underlying model supports. The available models only support text and images as input, and text as output.\n",
    "\n",
    "In the simplest case, you can pass a prompt string to the <a href=\"https://ai.google.dev/api/python/google/generativeai/GenerativeModel#generate_content\"><code>GenerativeModel.generate_content</code></a> method:"
   ]
  },
  {
   "cell_type": "code",
   "execution_count": 8,
   "metadata": {
    "colab": {
     "base_uri": "https://localhost:8080/",
     "height": 53
    },
    "id": "he-OfzBbhACQ",
    "outputId": "c84b2ee1-f419-401c-b7ba-968f129a3d45"
   },
   "outputs": [
    {
     "name": "stdout",
     "output_type": "stream",
     "text": [
      "CPU times: user 13.4 ms, sys: 9.33 ms, total: 22.8 ms\n",
      "Wall time: 6.09 s\n"
     ]
    }
   ],
   "source": [
    "%%time\n",
    "response = model.generate_content(\"Explain what is Mermaid JS and tell its use cases?\")"
   ]
  },
  {
   "cell_type": "markdown",
   "metadata": {
    "id": "FbrR-n_qlpFd"
   },
   "source": [
    "In simple cases, the `response.text` accessor is all you need. To display formatted Markdown text, use the `to_markdown` function:"
   ]
  },
  {
   "cell_type": "code",
   "execution_count": 9,
   "metadata": {
    "colab": {
     "base_uri": "https://localhost:8080/",
     "height": 510
    },
    "id": "G-zBkueElVEO",
    "outputId": "c0a3253d-3dbf-4fdc-963b-ccfb29ae2543"
   },
   "outputs": [
    {
     "data": {
      "text/markdown": [
       "> ## What is Mermaid JS?\n",
       "> \n",
       "> Mermaid JS is a JavaScript library that allows you to create **diagrams and flowcharts** directly within your Markdown files. It uses a simple and intuitive syntax to define diagrams and then renders them dynamically into interactive visualizations. \n",
       "> \n",
       "> **Key features of Mermaid JS:**\n",
       "> \n",
       "> * **Intuitive syntax:** You write diagrams using a simple text-based format that's easy to read and write.\n",
       "> * **Diverse diagrams:** Supports various diagram types like flowcharts, sequence diagrams, Gantt charts, class diagrams, state diagrams, ER diagrams, and more.\n",
       "> * **Interactive visualizations:** The rendered diagrams are interactive, allowing users to zoom, pan, and explore the details.\n",
       "> * **Integration with Markdown:** Seamlessly integrate diagrams into your Markdown files for documentation, presentations, and knowledge sharing.\n",
       "> * **Customization:** Offers options to customize the appearance of your diagrams with colors, styles, and labels.\n",
       "> \n",
       "> \n",
       "> ## Use Cases of Mermaid JS:\n",
       "> \n",
       "> Here are some common use cases of Mermaid JS:\n",
       "> \n",
       "> * **Documentation:** Create clear and concise documentation with visual diagrams explaining processes, workflows, and architecture.\n",
       "> * **Presentations:** Enhance presentations with dynamic and engaging diagrams that illustrate complex concepts.\n",
       "> * **Knowledge sharing:** Collaborate effectively by using diagrams to visualize information and share knowledge within teams.\n",
       "> * **Software development:** Design and document software architectures, workflows, and user interfaces using visual diagrams.\n",
       "> * **Project management:** Visualize project timelines, dependencies, and progress using Gantt charts.\n",
       "> * **Education:** Create visual aids for teaching complex topics, like algorithms, data structures, and system design.\n",
       "> * **Technical documentation:** Document software APIs, libraries, and tools with clear and informative diagrams.\n",
       "> \n",
       "> **Overall, Mermaid JS is a powerful tool for anyone who wants to create and embed visually appealing diagrams into their Markdown files, enhancing communication, documentation, and knowledge sharing.**\n"
      ],
      "text/plain": [
       "<IPython.core.display.Markdown object>"
      ]
     },
     "execution_count": 9,
     "metadata": {},
     "output_type": "execute_result"
    }
   ],
   "source": [
    "to_markdown(response.text)"
   ]
  },
  {
   "cell_type": "markdown",
   "metadata": {
    "id": "UZPpoKMQoru8"
   },
   "source": [
    "If the API failed to return a result, use `GenerateContentResponse.prompt_feedback` to see if it was blocked due to safety concerns regarding the prompt."
   ]
  },
  {
   "cell_type": "code",
   "execution_count": 10,
   "metadata": {
    "colab": {
     "base_uri": "https://localhost:8080/",
     "height": 496
    },
    "id": "zbp-ezoschIp",
    "outputId": "32e03c56-1fce-4956-a448-4fece096edcf"
   },
   "outputs": [
    {
     "data": {
      "text/markdown": [
       "> ```mermaid\n",
       "> graph LR\n",
       ">   subgraph Instagram\n",
       ">     A[Users] --> B(Content Creation)\n",
       ">     B --> C{Engagement}\n",
       ">     C --> D[User Growth]\n",
       ">     C --> E{Advertising Revenue}\n",
       ">     E --> F(Business Growth)\n",
       ">     D --> F\n",
       ">   end\n",
       ">   subgraph Content Creation\n",
       ">     B1[Photos] --> B2(Videos)\n",
       ">     B2 --> B3{Stories}\n",
       ">     B3 --> B4[Reels]\n",
       ">     B4 --> B5(Live Videos)\n",
       ">     B1 --> B5\n",
       ">   end\n",
       ">   subgraph Engagement\n",
       ">     C1[Likes] --> C2(Comments)\n",
       ">     C2 --> C3{Shares}\n",
       ">     C3 --> C4[Saves]\n",
       ">     C4 --> C5{Follows}\n",
       ">     C1 --> C5\n",
       ">   end\n",
       ">   subgraph Advertising Revenue\n",
       ">     E1[In-Feed Ads] --> E2(Stories Ads)\n",
       ">     E2 --> E3{Reels Ads}\n",
       ">     E3 --> E4[Shopping Ads}\n",
       ">     E4 --> E5(Influencer Marketing}\n",
       ">     E1 --> E5\n",
       ">   end\n",
       "> ```"
      ],
      "text/plain": [
       "<IPython.core.display.Markdown object>"
      ]
     },
     "execution_count": 10,
     "metadata": {},
     "output_type": "execute_result"
    }
   ],
   "source": [
    "base = \"Provide me mermaid code for the following usecase. If not specified, create a graph or a flowchart for the situation. Only and only give me the mermaid code, nothing else. No plain text, I am passing this code to an compiler that will generate charts from your response so I dont want any syntax errors. Here is the user query:\"\n",
    "\n",
    "response = model.generate_content(f'{base} Instagram buisness model in vertical graph and sub graphs as well')\n",
    "to_markdown(response.text)"
   ]
  },
  {
   "cell_type": "code",
   "execution_count": 11,
   "metadata": {
    "colab": {
     "base_uri": "https://localhost:8080/"
    },
    "id": "eIQdU8AGoraT",
    "outputId": "1ee575c7-7e05-497a-c146-80d0f61e4203"
   },
   "outputs": [
    {
     "data": {
      "text/plain": []
     },
     "execution_count": 11,
     "metadata": {},
     "output_type": "execute_result"
    }
   ],
   "source": [
    "response.prompt_feedback"
   ]
  },
  {
   "cell_type": "markdown",
   "metadata": {
    "id": "BEJupEDUo6Xj"
   },
   "source": [
    "Gemini can generate multiple possible responses for a single prompt. These possible responses are called `candidates`, and you can review them to select the most suitable one as the response.\n",
    "\n",
    "View the response candidates with <a href=\"https://ai.google.dev/api/python/google/ai/generativelanguage/GenerateContentResponse#candidates\"><code>GenerateContentResponse.candidates</code></a>:"
   ]
  },
  {
   "cell_type": "code",
   "execution_count": 12,
   "metadata": {
    "colab": {
     "base_uri": "https://localhost:8080/"
    },
    "id": "QoGYz-I7o5wF",
    "outputId": "b8507550-729d-4c05-f931-01d5183bc3c4"
   },
   "outputs": [
    {
     "data": {
      "text/plain": [
       "[index: 0\n",
       "content {\n",
       "  parts {\n",
       "    text: \"```mermaid\\ngraph LR\\n  subgraph Instagram\\n    A[Users] --> B(Content Creation)\\n    B --> C{Engagement}\\n    C --> D[User Growth]\\n    C --> E{Advertising Revenue}\\n    E --> F(Business Growth)\\n    D --> F\\n  end\\n  subgraph Content Creation\\n    B1[Photos] --> B2(Videos)\\n    B2 --> B3{Stories}\\n    B3 --> B4[Reels]\\n    B4 --> B5(Live Videos)\\n    B1 --> B5\\n  end\\n  subgraph Engagement\\n    C1[Likes] --> C2(Comments)\\n    C2 --> C3{Shares}\\n    C3 --> C4[Saves]\\n    C4 --> C5{Follows}\\n    C1 --> C5\\n  end\\n  subgraph Advertising Revenue\\n    E1[In-Feed Ads] --> E2(Stories Ads)\\n    E2 --> E3{Reels Ads}\\n    E3 --> E4[Shopping Ads}\\n    E4 --> E5(Influencer Marketing}\\n    E1 --> E5\\n  end\\n```\"\n",
       "  }\n",
       "  role: \"model\"\n",
       "}\n",
       "finish_reason: STOP\n",
       "safety_ratings {\n",
       "  category: HARM_CATEGORY_SEXUALLY_EXPLICIT\n",
       "  probability: NEGLIGIBLE\n",
       "}\n",
       "safety_ratings {\n",
       "  category: HARM_CATEGORY_HATE_SPEECH\n",
       "  probability: NEGLIGIBLE\n",
       "}\n",
       "safety_ratings {\n",
       "  category: HARM_CATEGORY_HARASSMENT\n",
       "  probability: NEGLIGIBLE\n",
       "}\n",
       "safety_ratings {\n",
       "  category: HARM_CATEGORY_DANGEROUS_CONTENT\n",
       "  probability: NEGLIGIBLE\n",
       "}\n",
       "]"
      ]
     },
     "execution_count": 12,
     "metadata": {},
     "output_type": "execute_result"
    }
   ],
   "source": [
    "response.candidates"
   ]
  },
  {
   "cell_type": "markdown",
   "metadata": {
    "id": "EJrwllLnHlBb"
   },
   "source": [
    "By default, the model returns a response after completing the entire generation process. You can also stream the response as it is being generated, and the model will return chunks of the response as soon as they are generated.\n",
    "\n",
    "To stream responses, use <a href=\"https://ai.google.dev/api/python/google/generativeai/GenerativeModel#generate_content\"><code>GenerativeModel.generate_content(..., stream=True)</code></a>."
   ]
  },
  {
   "cell_type": "code",
   "execution_count": 13,
   "metadata": {
    "colab": {
     "base_uri": "https://localhost:8080/",
     "height": 53
    },
    "id": "Z7n59b3hHo6-",
    "outputId": "1bba010b-0961-4803-b9f0-aca27619d899"
   },
   "outputs": [
    {
     "name": "stdout",
     "output_type": "stream",
     "text": [
      "CPU times: user 3 ms, sys: 2.01 ms, total: 5 ms\n",
      "Wall time: 569 ms\n"
     ]
    }
   ],
   "source": [
    "%%time\n",
    "response = model.generate_content(\"Explain what is Mermaid JS and tell its use cases?\", stream=True)"
   ]
  },
  {
   "cell_type": "code",
   "execution_count": 14,
   "metadata": {
    "colab": {
     "base_uri": "https://localhost:8080/"
    },
    "id": "2jt0d0GCIUhg",
    "outputId": "e41d34ff-715f-4678-ef1a-caac05570110"
   },
   "outputs": [
    {
     "name": "stdout",
     "output_type": "stream",
     "text": [
      "##\n",
      "________________________________________________________________________________\n",
      " What is Mermaid.js?\n",
      "\n",
      "Mermaid.js is a JavaScript library that lets\n",
      "________________________________________________________________________________\n",
      " you create diagrams and flowcharts directly within your Markdown files. You write the diagrams\n",
      "________________________________________________________________________________\n",
      " using a simple, intuitive syntax, and Mermaid.js renders them beautifully as interactive visualizations.  \n",
      "\n",
      "**Key Features:**\n",
      "\n",
      "* **Simple Syntax:** Mermaid.\n",
      "________________________________________________________________________________\n",
      "js uses a very straightforward syntax, making it easy to learn and use. You don't need to be a coding expert to create impressive diagrams.\n",
      "*\n",
      "________________________________________________________________________________\n",
      " **Interactive and Dynamic:** The generated diagrams are interactive, allowing users to zoom, pan, and explore the data. You can even add clickable elements that link to external resources.\n",
      "* **Variety of Diagram Types:** Mermaid.js supports a\n",
      "________________________________________________________________________________\n",
      " wide range of diagram types, including:\n",
      "    * **Flowcharts:** Depict processes and workflows.\n",
      "    * **Sequence Diagrams:** Illustrate interactions between objects or actors over time.\n",
      "    * **Gantt Charts:** Visual\n",
      "________________________________________________________________________________\n",
      "ize project timelines and deadlines.\n",
      "    * **Class Diagrams:** Show the relationships between classes in object-oriented programming.\n",
      "    * **State Diagrams:** Represent the states and transitions of a system.\n",
      "    * **Entity Relationship Diagrams (ERDs):** Illustrate database relationships.\n",
      "    * **User Journey Maps\n",
      "________________________________________________________________________________\n",
      ":** Map the steps a user takes while interacting with a product or service.\n",
      "    * **Pie Charts and Git Graphs:** For visualizing data in different ways.\n",
      "* **Integration with Markdown:** Mermaid.js seamlessly integrates with Markdown, making it perfect for documentation, presentations, and knowledge sharing.\n",
      "* **Open Source\n",
      "________________________________________________________________________________\n",
      ":** Mermaid.js is completely free and open-source, allowing you to use it for any purpose.\n",
      "\n",
      "## Use Cases of Mermaid.js:\n",
      "\n",
      "* **Documentation:** Create clear and visually appealing documentation for software projects, APIs, and business processes.\n",
      "* **Presentations:** Enhance presentations with interactive diagrams and flowcharts\n",
      "________________________________________________________________________________\n",
      " that engage the audience.\n",
      "* **Knowledge Sharing:** Share complex information in a readily understandable format.\n",
      "* **Project Management:** Track project progress, dependencies, and timelines using Gantt charts.\n",
      "* **Software Design:** Design software systems using class diagrams and state diagrams.\n",
      "* **Database Design:** Visualize database relationships\n",
      "________________________________________________________________________________\n",
      " using ERDs.\n",
      "* **Technical Writing:** Create high-quality technical documentation with visual aids.\n",
      "* **Education:** Teach and learn complex concepts using interactive diagrams.\n",
      "* **Web Development:** Use Mermaid.js to create responsive and dynamic visualizations within your web applications.\n",
      "\n",
      "**Example:**\n",
      "\n",
      "```mermaid\n",
      "graph\n",
      "________________________________________________________________________________\n",
      " LR\n",
      "    A[Start] --> B{Decision}\n",
      "    B -- Yes --> C[End]\n",
      "    B -- No --> D[Process]\n",
      "    D --> C\n",
      "```\n",
      "\n",
      "This code generates a simple flowchart depicting a decision process.\n",
      "\n",
      "Mermaid.js is a versatile and powerful tool that can significantly\n",
      "________________________________________________________________________________\n",
      " improve the clarity and effectiveness of your communication. Its ease of use, interactive nature, and wide range of supported diagrams make it a valuable asset for any professional or individual who needs to visualize and explain complex information.\n",
      "\n",
      "________________________________________________________________________________\n"
     ]
    }
   ],
   "source": [
    "for chunk in response:\n",
    "  print(chunk.text)\n",
    "  print(\"_\"*80)"
   ]
  },
  {
   "cell_type": "markdown",
   "metadata": {
    "id": "5b4Hkfj-pm3p"
   },
   "source": [
    "When streaming, some response attributes are not available until you've iterated through all the response chunks. This is demonstrated below:"
   ]
  },
  {
   "cell_type": "code",
   "execution_count": 15,
   "metadata": {
    "id": "-URRx4chp0Kt"
   },
   "outputs": [],
   "source": [
    "response = model.generate_content(\"Explain what is Mermaid JS and tell its use cases?\", stream=True)"
   ]
  },
  {
   "cell_type": "markdown",
   "metadata": {
    "id": "1HklomMEp9QM"
   },
   "source": [
    "The `prompt_feedback` attribute works:"
   ]
  },
  {
   "cell_type": "code",
   "execution_count": 16,
   "metadata": {
    "colab": {
     "base_uri": "https://localhost:8080/"
    },
    "id": "i1BvdXjop2V-",
    "outputId": "6fe6c2bf-f54d-403a-b348-8cacb8ecc9cb"
   },
   "outputs": [
    {
     "data": {
      "text/plain": []
     },
     "execution_count": 16,
     "metadata": {},
     "output_type": "execute_result"
    }
   ],
   "source": [
    "response.prompt_feedback"
   ]
  },
  {
   "cell_type": "markdown",
   "metadata": {
    "id": "mVaFQ4RmqGOH"
   },
   "source": [
    "But attributes like <code>text</code> do not:"
   ]
  },
  {
   "cell_type": "code",
   "execution_count": 17,
   "metadata": {
    "colab": {
     "base_uri": "https://localhost:8080/"
    },
    "id": "TiRkS6nCqFmM",
    "outputId": "c7917469-0543-44e2-999c-3fd6a2dd2e78"
   },
   "outputs": [
    {
     "name": "stdout",
     "output_type": "stream",
     "text": [
      "IncompleteIterationError: Please let the response complete iteration before accessing the final accumulated\n",
      "attributes (or call `response.resolve()`)\n"
     ]
    }
   ],
   "source": [
    "try:\n",
    "  response.text\n",
    "except Exception as e:\n",
    "  print(f'{type(e).__name__}: {e}')"
   ]
  },
  {
   "cell_type": "markdown",
   "metadata": {
    "id": "MCzr5ZpNhxLm"
   },
   "source": [
    "## Generate text from image and text inputs\n",
    "\n",
    "Gemini provides a multimodal model (`gemini-pro-vision`) that accepts both text and images and inputs. The `GenerativeModel.generate_content` API is designed to handle multimodal prompts and returns a text output.\n",
    "\n",
    "Let's include an image:"
   ]
  },
  {
   "cell_type": "code",
   "execution_count": 18,
   "metadata": {
    "colab": {
     "base_uri": "https://localhost:8080/",
     "height": 723
    },
    "id": "CjnS0vNTsVis",
    "outputId": "9881b732-c8af-41d8-d32f-d245355f671f"
   },
   "outputs": [
    {
     "data": {
      "image/jpeg": "[encoded data removed]",
      "image/png": "[encoded data removed]",
      "text/plain": [
       "<PIL.PngImagePlugin.PngImageFile image mode=L size=534x528>"
      ]
     },
     "execution_count": 18,
     "metadata": {},
     "output_type": "execute_result"
    }
   ],
   "source": [
    "import PIL.Image\n",
    "\n",
    "img = PIL.Image.open('nqueen.png')\n",
    "img"
   ]
  },
  {
   "cell_type": "markdown",
   "metadata": {
    "id": "7r99TN2R8EUD"
   },
   "source": [
    "Use the `gemini-1.5-flash` model and pass the image to the model with `generate_content`."
   ]
  },
  {
   "cell_type": "code",
   "execution_count": 19,
   "metadata": {
    "id": "EtXxgVzmJZzE"
   },
   "outputs": [],
   "source": [
    "model = genai.GenerativeModel('gemini-1.5-flash')"
   ]
  },
  {
   "cell_type": "code",
   "execution_count": 20,
   "metadata": {
    "colab": {
     "base_uri": "https://localhost:8080/",
     "height": 80
    },
    "id": "GwYifv298Cj3",
    "outputId": "781c77a4-e369-48bf-e443-22835c40da7f"
   },
   "outputs": [
    {
     "data": {
      "text/markdown": [
       "> The image shows a 4x4 grid with 4 black queens placed in squares. The queens are placed in the following squares:\n",
       "> - Top right\n",
       "> - Middle left\n",
       "> - Bottom right\n",
       "> - Bottom left"
      ],
      "text/plain": [
       "<IPython.core.display.Markdown object>"
      ]
     },
     "execution_count": 20,
     "metadata": {},
     "output_type": "execute_result"
    }
   ],
   "source": [
    "response = model.generate_content(img)\n",
    "\n",
    "to_markdown(response.text)"
   ]
  },
  {
   "cell_type": "markdown",
   "metadata": {
    "id": "7xW2Kyra8pSz"
   },
   "source": [
    "To provide both text and images in a prompt, pass a list containing the strings and images:"
   ]
  },
  {
   "cell_type": "code",
   "execution_count": 21,
   "metadata": {
    "id": "vm9tUYeT8lBc"
   },
   "outputs": [],
   "source": [
    "response = model.generate_content([f'{base} This is a classic mathematics and computer science problem that involves using comcepts of backtracking and search algorithms called waterjug problem. Create a flowchart to create an algorithm for solving this problem givin the capacity of the 2 inputs and the expected result', img], stream=True)\n",
    "response.resolve()"
   ]
  },
  {
   "cell_type": "code",
   "execution_count": 22,
   "metadata": {
    "colab": {
     "base_uri": "https://localhost:8080/",
     "height": 237
    },
    "id": "d46826OA9IDS",
    "outputId": "95097a4d-357d-42db-b89c-ea87fe8bd623"
   },
   "outputs": [
    {
     "data": {
      "text/markdown": [
       "> ```mermaid\n",
       "> graph LR\n",
       ">     A[Start] --> B{Initialize jug1, jug2, goal}\n",
       ">     B --> C{Is goal achievable?}\n",
       ">     C -- No --> F[End: Goal not achievable]\n",
       ">     C -- Yes --> D{Fill jug1}\n",
       ">     D --> E{Fill jug2}\n",
       ">     E --> H{Is jug2 full?}\n",
       ">     H -- No --> I{Pour jug2 into jug1}\n",
       ">     I --> E\n",
       ">     H -- Yes --> J{Empty jug2}\n",
       ">     J --> E\n",
       ">     E --> K{Is goal achieved?}\n",
       ">     K -- No --> D\n",
       ">     K -- Yes --> F[End: Goal achieved]\n",
       "> ```"
      ],
      "text/plain": [
       "<IPython.core.display.Markdown object>"
      ]
     },
     "execution_count": 22,
     "metadata": {},
     "output_type": "execute_result"
    }
   ],
   "source": [
    "to_markdown(response.text)"
   ]
  },
  {
   "cell_type": "markdown",
   "metadata": {
    "id": "zsIZmCYVTDHD"
   },
   "source": [
    "## Chat conversations\n",
    "\n",
    "Gemini enables you to have freeform conversations across multiple turns. The `ChatSession` class simplifies the process by managing the state of the conversation, so unlike with `generate_content`, you do not have to store the conversation history as a list.\n",
    "\n",
    "Initialize the chat:"
   ]
  },
  {
   "cell_type": "code",
   "execution_count": 23,
   "metadata": {
    "colab": {
     "base_uri": "https://localhost:8080/"
    },
    "id": "y8B9Mwo-TCr2",
    "outputId": "9fdf3648-084a-46ed-8c58-e534734dcc19"
   },
   "outputs": [
    {
     "data": {
      "text/plain": [
       "ChatSession(\n",
       "    model=genai.GenerativeModel(\n",
       "        model_name='models/gemini-1.5-flash',\n",
       "        generation_config={},\n",
       "        safety_settings={},\n",
       "        tools=None,\n",
       "        system_instruction=None,\n",
       "    ),\n",
       "    history=[]\n",
       ")"
      ]
     },
     "execution_count": 23,
     "metadata": {},
     "output_type": "execute_result"
    }
   ],
   "source": [
    "model = genai.GenerativeModel('gemini-1.5-flash')\n",
    "chat = model.start_chat(history=[])\n",
    "chat"
   ]
  },
  {
   "cell_type": "markdown",
   "metadata": {
    "id": "5odluV7kKbgr"
   },
   "source": [
    "The `ChatSession.send_message` method returns the same `GenerateContentResponse` type as <a href=\"https://ai.google.dev/api/python/google/generativeai/GenerativeModel#generate_content\"><code>GenerativeModel.generate_content</code></a>. It also appends your message and the response to the chat history:"
   ]
  },
  {
   "cell_type": "code",
   "execution_count": 24,
   "metadata": {
    "colab": {
     "base_uri": "https://localhost:8080/",
     "height": 62
    },
    "id": "b72zbOEjKRxP",
    "outputId": "a9da188a-00c2-4a18-f95c-1f8499fe6055"
   },
   "outputs": [
    {
     "data": {
      "text/markdown": [
       "> A computer is like a really smart toy that follows your instructions by turning them into tiny lights that make it do things! \n"
      ],
      "text/plain": [
       "<IPython.core.display.Markdown object>"
      ]
     },
     "execution_count": 24,
     "metadata": {},
     "output_type": "execute_result"
    }
   ],
   "source": [
    "response = chat.send_message(\"In one sentence, explain how a computer works to a young child.\")\n",
    "to_markdown(response.text)"
   ]
  },
  {
   "cell_type": "code",
   "execution_count": 25,
   "metadata": {
    "colab": {
     "base_uri": "https://localhost:8080/"
    },
    "id": "5-5HS2bTOTU9",
    "outputId": "645d832d-f21e-4cf3-dcbd-637401ac5937"
   },
   "outputs": [
    {
     "data": {
      "text/plain": [
       "[parts {\n",
       "   text: \"In one sentence, explain how a computer works to a young child.\"\n",
       " }\n",
       " role: \"user\",\n",
       " parts {\n",
       "   text: \"A computer is like a really smart toy that follows your instructions by turning them into tiny lights that make it do things! \\n\"\n",
       " }\n",
       " role: \"model\"]"
      ]
     },
     "execution_count": 25,
     "metadata": {},
     "output_type": "execute_result"
    }
   ],
   "source": [
    "chat.history"
   ]
  },
  {
   "cell_type": "markdown",
   "metadata": {
    "id": "7JaiFSIvOcVb"
   },
   "source": [
    "You can keep sending messages to continue the conversation. Use the `stream=True` argument to stream the chat:"
   ]
  },
  {
   "cell_type": "code",
   "execution_count": 26,
   "metadata": {
    "colab": {
     "base_uri": "https://localhost:8080/",
     "height": 178
    },
    "id": "Vxku7mzSObfZ",
    "outputId": "90f6a40f-5968-4915-b0ed-1b8a7453018c"
   },
   "outputs": [
    {
     "name": "stdout",
     "output_type": "stream",
     "text": [
      "Computers\n",
      "________________________________________________________________________________\n",
      " work by taking your instructions, converting them into a binary code of ones and zeros\n",
      "________________________________________________________________________________\n",
      ", and then using those codes to manipulate electronic circuits, which ultimately control everything from\n",
      "________________________________________________________________________________\n",
      " displaying images on your screen to playing your favorite music. \n",
      "\n",
      "________________________________________________________________________________\n"
     ]
    }
   ],
   "source": [
    "response = chat.send_message(\"Okay, how about a more detailed explanation to a high schooler?\", stream=True)\n",
    "\n",
    "for chunk in response:\n",
    "  print(chunk.text)\n",
    "  print(\"_\"*80)"
   ]
  },
  {
   "cell_type": "markdown",
   "metadata": {
    "id": "AwCqtZ6D4kvk"
   },
   "source": [
    "`glm.Content` objects contain a list of `glm.Part` objects that each contain either a text (string) or inline_data (`glm.Blob`), where a blob contains binary data and a `mime_type`. The chat history is available as a list of `glm.Content` objects in `ChatSession.history`:"
   ]
  },
  {
   "cell_type": "code",
   "execution_count": 27,
   "metadata": {
    "colab": {
     "base_uri": "https://localhost:8080/",
     "height": 174
    },
    "id": "WvyTmbC2d0k3",
    "outputId": "9257863b-e6f8-4b15-a035-bcdd4ce88dc0"
   },
   "outputs": [
    {
     "data": {
      "text/markdown": [
       "> **user**: In one sentence, explain how a computer works to a young child."
      ],
      "text/plain": [
       "<IPython.core.display.Markdown object>"
      ]
     },
     "metadata": {},
     "output_type": "display_data"
    },
    {
     "data": {
      "text/markdown": [
       "> **model**: A computer is like a really smart toy that follows your instructions by turning them into tiny lights that make it do things! \n"
      ],
      "text/plain": [
       "<IPython.core.display.Markdown object>"
      ]
     },
     "metadata": {},
     "output_type": "display_data"
    },
    {
     "data": {
      "text/markdown": [
       "> **user**: Okay, how about a more detailed explanation to a high schooler?"
      ],
      "text/plain": [
       "<IPython.core.display.Markdown object>"
      ]
     },
     "metadata": {},
     "output_type": "display_data"
    },
    {
     "data": {
      "text/markdown": [
       "> **model**: Computers work by taking your instructions, converting them into a binary code of ones and zeros, and then using those codes to manipulate electronic circuits, which ultimately control everything from displaying images on your screen to playing your favorite music. \n"
      ],
      "text/plain": [
       "<IPython.core.display.Markdown object>"
      ]
     },
     "metadata": {},
     "output_type": "display_data"
    }
   ],
   "source": [
    "for message in chat.history:\n",
    "  display(to_markdown(f'**{message.role}**: {message.parts[0].text}'))"
   ]
  },
  {
   "cell_type": "markdown",
   "metadata": {
    "id": "AEgVOYu0pAr4"
   },
   "source": [
    "## Count tokens\n",
    "\n",
    "Large language models have a context window, and the context length is often measured in terms of the **number of tokens**. With the Gemini API, you can determine the number of tokens per any `glm.Content` object. In the simplest case, you can pass a query string to the `GenerativeModel.count_tokens` method as follows:"
   ]
  },
  {
   "cell_type": "code",
   "execution_count": 28,
   "metadata": {
    "colab": {
     "base_uri": "https://localhost:8080/",
     "height": 35
    },
    "id": "eLjBmPCLpElk",
    "outputId": "a1ad7c79-7ae0-4ec5-c09a-a66714dde927"
   },
   "outputs": [
    {
     "data": {
      "text/plain": [
       "total_tokens: 11"
      ]
     },
     "execution_count": 28,
     "metadata": {},
     "output_type": "execute_result"
    }
   ],
   "source": [
    "model.count_tokens(\"Explain what is Mermaid JS and tell its use cases?\")"
   ]
  },
  {
   "cell_type": "markdown",
   "metadata": {
    "id": "oM2_U8pmpHQA"
   },
   "source": [
    "Similarly, you can check `token_count` for your `ChatSession`:"
   ]
  },
  {
   "cell_type": "code",
   "execution_count": 29,
   "metadata": {
    "colab": {
     "base_uri": "https://localhost:8080/",
     "height": 35
    },
    "id": "i0MUU4BZpG4_",
    "outputId": "285cedbe-98b9-493a-d876-826f9b82a592"
   },
   "outputs": [
    {
     "data": {
      "text/plain": [
       "total_tokens: 104"
      ]
     },
     "execution_count": 29,
     "metadata": {},
     "output_type": "execute_result"
    }
   ],
   "source": [
    "model.count_tokens(chat.history)"
   ]
  },
  {
   "cell_type": "markdown",
   "metadata": {
    "id": "f9bU0J3vUIbz"
   },
   "source": [
    "## Use embeddings"
   ]
  },
  {
   "cell_type": "markdown",
   "metadata": {
    "id": "BpHIRU5bj7aW"
   },
   "source": [
    "[Embedding](https://developers.google.com/machine-learning/glossary#embedding-vector) is a technique used to represent information as a list of floating point numbers in an array. With Gemini, you can represent text (words, sentences, and blocks of text) in a vectorized form, making it easier to compare and contrast embeddings. For example, two texts that share a similar subject matter or sentiment should have similar embeddings, which can be identified through mathematical comparison techniques such as cosine similarity. For more on how and why you should use embeddings, refer to the [Embeddings guide](https://ai.google.dev/docs/embeddings_guide).\n",
    "\n",
    "Use the `embed_content` method to generate embeddings. The method handles embedding for the following tasks (`task_type`):\n",
    "\n",
    "Task Type | Description\n",
    "---       | ---\n",
    "RETRIEVAL_QUERY\t| Specifies the given text is a query in a search/retrieval setting.\n",
    "RETRIEVAL_DOCUMENT | Specifies the given text is a document in a search/retrieval setting. Using this task type requires a `title`.\n",
    "SEMANTIC_SIMILARITY\t| Specifies the given text will be used for Semantic Textual Similarity (STS).\n",
    "CLASSIFICATION\t| Specifies that the embeddings will be used for classification.\n",
    "CLUSTERING\t| Specifies that the embeddings will be used for clustering.\n",
    "\n",
    "The following generates an embedding for a single string for document retrieval:"
   ]
  },
  {
   "cell_type": "code",
   "execution_count": 30,
   "metadata": {
    "colab": {
     "base_uri": "https://localhost:8080/",
     "height": 35
    },
    "id": "hskqSKnJUHvp",
    "outputId": "495c80ff-8899-48da-8941-02ebbc1e7904"
   },
   "outputs": [
    {
     "name": "stdout",
     "output_type": "stream",
     "text": [
      "[-0.028545432, 0.044588123, -0.03419736, -0.004266 ... TRIMMED]\n"
     ]
    }
   ],
   "source": [
    "result = genai.embed_content(\n",
    "    model=\"models/text-embedding-004\",\n",
    "    content=\"What is the meaning of life?\",\n",
    "    task_type=\"retrieval_document\",\n",
    "    title=\"Embedding of single string\")\n",
    "\n",
    "# 1 input > 1 vector output\n",
    "print(str(result['embedding'])[:50], '... TRIMMED]')"
   ]
  },
  {
   "cell_type": "markdown",
   "metadata": {
    "id": "OcSc3KfflBCQ"
   },
   "source": [
    "Note: The `retrieval_document` task type is the only task that accepts a title.\n",
    "\n",
    "To handle batches of strings, pass a list of strings in `content`:"
   ]
  },
  {
   "cell_type": "code",
   "execution_count": 31,
   "metadata": {
    "colab": {
     "base_uri": "https://localhost:8080/",
     "height": 71
    },
    "id": "OnyD-Joik8LE",
    "outputId": "77e21bb3-bed9-4fca-b400-9b488c3491f4"
   },
   "outputs": [
    {
     "name": "stdout",
     "output_type": "stream",
     "text": [
      "[-0.036453035, 0.03325499, -0.03970925, -0.0026286 ... TRIMMED ...\n",
      "[-0.01591948, 0.032582667, -0.081024624, -0.011298 ... TRIMMED ...\n",
      "[0.00037063262, 0.03763057, -0.12269569, -0.009518 ... TRIMMED ...\n"
     ]
    }
   ],
   "source": [
    "result = genai.embed_content(\n",
    "    model=\"models/text-embedding-004\",\n",
    "    content=[\n",
    "      'What is the meaning of life?',\n",
    "      'How much wood would a woodchuck chuck?',\n",
    "      'How does the brain work?'],\n",
    "    task_type=\"retrieval_document\",\n",
    "    title=\"Embedding of list of strings\")\n",
    "\n",
    "# A list of inputs > A list of vectors output\n",
    "for v in result['embedding']:\n",
    "  print(str(v)[:50], '... TRIMMED ...')"
   ]
  },
  {
   "cell_type": "markdown",
   "metadata": {
    "id": "zBg0eNeml3d4"
   },
   "source": [
    "While the `genai.embed_content` function accepts simple strings or lists of strings, it is actually built around the `glm.Content` type (like <a href=\"https://ai.google.dev/api/python/google/generativeai/GenerativeModel#generate_content\"><code>GenerativeModel.generate_content</code></a>). `glm.Content` objects are the primary units of conversation in the API.\n",
    "\n",
    "While the `glm.Content` object is multimodal, the `embed_content` method only supports text embeddings. This design gives the API the *possibility* to expand to multimodal embeddings."
   ]
  },
  {
   "cell_type": "code",
   "execution_count": 32,
   "metadata": {
    "colab": {
     "base_uri": "https://localhost:8080/"
    },
    "id": "1-wmapZznXrm",
    "outputId": "244317e2-995a-4116-cffd-15cb24d0e1ca"
   },
   "outputs": [
    {
     "data": {
      "text/plain": [
       "parts {\n",
       "  text: \"Computers work by taking your instructions, converting them into a binary code of ones and zeros, and then using those codes to manipulate electronic circuits, which ultimately control everything from displaying images on your screen to playing your favorite music. \\n\"\n",
       "}\n",
       "role: \"model\""
      ]
     },
     "execution_count": 32,
     "metadata": {},
     "output_type": "execute_result"
    }
   ],
   "source": [
    "response.candidates[0].content"
   ]
  },
  {
   "cell_type": "code",
   "execution_count": 33,
   "metadata": {
    "colab": {
     "base_uri": "https://localhost:8080/",
     "height": 35
    },
    "id": "cvX5jsrcnufk",
    "outputId": "fff98eb7-80c4-4639-9f29-f90258908576"
   },
   "outputs": [
    {
     "name": "stdout",
     "output_type": "stream",
     "text": [
      "[-0.05092525, 0.025402924, -0.037100997, -0.030644 ... TRIMMED ...\n"
     ]
    }
   ],
   "source": [
    "result = genai.embed_content(\n",
    "    model = 'models/text-embedding-004',\n",
    "    content = response.candidates[0].content)\n",
    "\n",
    "# 1 input > 1 vector output\n",
    "print(str(result['embedding'])[:50], '... TRIMMED ...')"
   ]
  },
  {
   "cell_type": "markdown",
   "metadata": {
    "id": "jU8juHCxoUKG"
   },
   "source": [
    "Similarly, the chat history contains a list of `glm.Content` objects, which you can pass directly to the `embed_content` function:"
   ]
  },
  {
   "cell_type": "code",
   "execution_count": 34,
   "metadata": {
    "colab": {
     "base_uri": "https://localhost:8080/"
    },
    "id": "ur5ajPsdnCON",
    "outputId": "12d31a19-3483-4d93-f0cf-24174a1800ff"
   },
   "outputs": [
    {
     "data": {
      "text/plain": [
       "[parts {\n",
       "   text: \"In one sentence, explain how a computer works to a young child.\"\n",
       " }\n",
       " role: \"user\",\n",
       " parts {\n",
       "   text: \"A computer is like a really smart toy that follows your instructions by turning them into tiny lights that make it do things! \\n\"\n",
       " }\n",
       " role: \"model\",\n",
       " parts {\n",
       "   text: \"Okay, how about a more detailed explanation to a high schooler?\"\n",
       " }\n",
       " role: \"user\",\n",
       " parts {\n",
       "   text: \"Computers work by taking your instructions, converting them into a binary code of ones and zeros, and then using those codes to manipulate electronic circuits, which ultimately control everything from displaying images on your screen to playing your favorite music. \\n\"\n",
       " }\n",
       " role: \"model\"]"
      ]
     },
     "execution_count": 34,
     "metadata": {},
     "output_type": "execute_result"
    }
   ],
   "source": [
    "chat.history"
   ]
  },
  {
   "cell_type": "code",
   "execution_count": 35,
   "metadata": {
    "colab": {
     "base_uri": "https://localhost:8080/",
     "height": 88
    },
    "id": "Z3xDB1hwof96",
    "outputId": "68a91122-d6fc-4c0e-b2e5-88bba82a35e3"
   },
   "outputs": [
    {
     "name": "stdout",
     "output_type": "stream",
     "text": [
      "[-0.03417175, 0.005179209, -0.054957863, -0.030872 ... TRIMMED...\n",
      "[-0.044464022, 0.0033769584, -0.039734624, 0.00052 ... TRIMMED...\n",
      "[0.032410417, 0.036596797, -0.04735078, -0.0301925 ... TRIMMED...\n",
      "[-0.05092525, 0.025402924, -0.037100997, -0.030644 ... TRIMMED...\n"
     ]
    }
   ],
   "source": [
    "result = genai.embed_content(\n",
    "    model = 'models/text-embedding-004',\n",
    "    content = chat.history)\n",
    "\n",
    "# 1 input > 1 vector output\n",
    "for i,v in enumerate(result['embedding']):\n",
    "  print(str(v)[:50], '... TRIMMED...')"
   ]
  },
  {
   "cell_type": "markdown",
   "metadata": {
    "id": "vuz9-TWDzdlb"
   },
   "source": [
    "## Advanced use cases\n",
    "\n",
    "The following sections discuss advanced use cases and lower-level details of the Python SDK for the Gemini API."
   ]
  },
  {
   "cell_type": "markdown",
   "metadata": {
    "id": "o5FWJPSD1qFE"
   },
   "source": [
    "### Safety settings\n",
    "\n",
    "The `safety_settings` argument lets you configure what the model blocks and allows in both prompts and responses. By default, safety settings block content with medium and/or high probability of being unsafe content across all dimensions. Learn more about [Safety settings](https://ai.google.dev/docs/safety_setting).\n",
    "\n",
    "Enter a questionable prompt and run the model with the default safety settings, and it will not return any candidates:"
   ]
  },
  {
   "cell_type": "code",
   "execution_count": 36,
   "metadata": {
    "colab": {
     "base_uri": "https://localhost:8080/",
     "height": 553
    },
    "id": "VR1fp12I1yH0",
    "outputId": "69ed578d-5228-41cc-b5b8-835149fead08"
   },
   "outputs": [
    {
     "data": {
      "text/plain": [
       "[index: 0\n",
       "content {\n",
       "  parts {\n",
       "    text: \"## Is Mermaid.js Really Useful?\\n\\nMermaid.js is a **very useful** tool for anyone who needs to **visually represent complex information**, particularly in the realm of **software development and documentation.**\\n\\nHere\\'s why:\\n\\n**Benefits of Mermaid.js:**\\n\\n* **Simple Syntax:** Mermaid.js uses a simple, intuitive syntax that is easy to learn and use, even for non-technical users.\\n* **Versatile Diagramming:** It supports a wide range of diagram types including:\\n    * **Sequence diagrams:** Visualize the flow of events in a process.\\n    * **Flowcharts:** Depict decision-making processes and workflows.\\n    * **Class diagrams:** Illustrate the relationships between different objects.\\n    * **State diagrams:** Show the various states of a system.\\n    * **Gantt charts:** Track project timelines and dependencies.\\n    * **Entity relationship diagrams (ERDs):** Model database relationships.\\n    * **User journey maps:** Visualize the user experience.\\n    * **Git graph diagrams:** Show the history of code changes.\\n* **Interactive Diagrams:** Mermaid.js diagrams are interactive, allowing users to zoom, pan, and explore the diagram.\\n* **Easy Integration:** Mermaid.js can be easily integrated into various platforms and tools, including:\\n    * **Markdown:** Write diagrams directly in Markdown files.\\n    * **Websites:** Embed diagrams on websites using Javascript.\\n    * **Documentation:** Use Mermaid.js diagrams to create clear and concise documentation.\\n    * **Presentations:**  Use Mermaid.js to create visually appealing presentations.\\n* **Open Source and Free:** Mermaid.js is an open-source project, making it free to use and modify.\\n\\n**Who can benefit from Mermaid.js:**\\n\\n* **Software Developers:** Create and share diagrams for software design, documentation, and communication.\\n* **Project Managers:** Visualize project plans, timelines, and dependencies.\\n* **Business Analysts:** Model business processes, user flows, and data relationships.\\n* **Data Scientists:** Represent data structures and relationships visually.\\n* **Educators:** Teach complex concepts in a visual and engaging way.\\n* **Writers and Content Creators:** Enhance documentation and presentations with clear and informative diagrams.\\n\\n**Overall, Mermaid.js is a powerful tool that can greatly improve the clarity and effectiveness of communication, particularly in technical contexts.**\\n\\n**Some considerations:**\\n\\n* Mermaid.js is primarily used for creating diagrams, so it might not be the best tool for complex data visualization or interactive dashboards.\\n* Some features require specific browser support or external libraries.\\n\\n**Alternatives to Mermaid.js:**\\n\\n* **Graphviz:** A more powerful graph visualization tool, but with a steeper learning curve.\\n* **Draw.io:** A web-based diagramming tool with a wide range of features.\\n* **Lucidchart:** A cloud-based diagramming tool with a user-friendly interface.\\n\\nIn conclusion, **Mermaid.js is a versatile and useful tool for creating and integrating diagrams into various contexts.**  Its simplicity, versatility, and open-source nature make it a valuable asset for anyone seeking to improve their visual communication.\\n\"\n",
       "  }\n",
       "  role: \"model\"\n",
       "}\n",
       "finish_reason: STOP\n",
       "safety_ratings {\n",
       "  category: HARM_CATEGORY_SEXUALLY_EXPLICIT\n",
       "  probability: NEGLIGIBLE\n",
       "}\n",
       "safety_ratings {\n",
       "  category: HARM_CATEGORY_HATE_SPEECH\n",
       "  probability: NEGLIGIBLE\n",
       "}\n",
       "safety_ratings {\n",
       "  category: HARM_CATEGORY_HARASSMENT\n",
       "  probability: NEGLIGIBLE\n",
       "}\n",
       "safety_ratings {\n",
       "  category: HARM_CATEGORY_DANGEROUS_CONTENT\n",
       "  probability: NEGLIGIBLE\n",
       "}\n",
       "]"
      ]
     },
     "execution_count": 36,
     "metadata": {},
     "output_type": "execute_result"
    }
   ],
   "source": [
    "response = model.generate_content('[Is mermaid js really useful?]')\n",
    "response.candidates"
   ]
  },
  {
   "cell_type": "markdown",
   "metadata": {
    "id": "31Q8kAItGLOU"
   },
   "source": [
    "The `prompt_feedback` will tell you which safety filter blocked the prompt:"
   ]
  },
  {
   "cell_type": "code",
   "execution_count": 37,
   "metadata": {
    "colab": {
     "base_uri": "https://localhost:8080/"
    },
    "id": "GMUvWNkZ11x4",
    "outputId": "2e1b4bb9-37f7-4937-a7f0-d46b155fd64b"
   },
   "outputs": [
    {
     "data": {
      "text/plain": []
     },
     "execution_count": 37,
     "metadata": {},
     "output_type": "execute_result"
    }
   ],
   "source": [
    "response.prompt_feedback"
   ]
  },
  {
   "cell_type": "markdown",
   "metadata": {
    "id": "YtPC1Fo514ec"
   },
   "source": [
    "Now provide the same prompt to the model with newly configured safety settings, and you may get a response."
   ]
  },
  {
   "cell_type": "code",
   "execution_count": 38,
   "metadata": {
    "colab": {
     "base_uri": "https://localhost:8080/",
     "height": 125
    },
    "id": "0UIt5LKp16jL",
    "outputId": "57e8f9f9-cd49-419a-bb4e-5d02f93036c5"
   },
   "outputs": [
    {
     "data": {
      "text/plain": [
       "\"It depends on what you're looking for. Mermaid.js is **useful in specific contexts**, but it's not a silver bullet for all diagramming needs. Here's a breakdown:\\n\\n**Pros:**\\n\\n* **Easy to use:** It uses a simple, intuitive syntax that's easy to learn and use, even for non-technical users.\\n* **Lightweight:** It's a JavaScript library, so it's lightweight and fast, and doesn't require any special software or installations.\\n* **Versatile:** It supports a wide range of diagrams, including flowcharts, sequence diagrams, state diagrams, and more.\\n* **Interactive:** You can create interactive diagrams that users can explore and understand better.\\n* **Open source:** It's free to use and modify, and has a large and active community.\\n\\n**Cons:**\\n\\n* **Limited customization:** While you can customize the appearance of your diagrams to some extent, it's not as flexible as dedicated diagramming software.\\n* **Simple diagrams:** It's best suited for creating simple to medium complexity diagrams. For complex diagrams, you might need a more powerful tool.\\n* **Not for static images:** Mermaid.js is designed for generating diagrams dynamically, so it's not ideal for creating static images that you want to use in printed documents.\\n\\n**When Mermaid.js is useful:**\\n\\n* **Quick prototyping:** When you need to quickly create a diagram to illustrate a concept or idea.\\n* **Documentation:** When you want to embed diagrams directly into your documentation, such as markdown files or websites.\\n* **Interactive presentations:** When you want to create interactive diagrams that users can explore and understand better.\\n* **Agile workflows:** When you need to quickly create and update diagrams as part of your agile development process.\\n\\n**Alternatives to Mermaid.js:**\\n\\n* **Draw.io:** A popular web-based diagramming tool with a user-friendly interface and a wide range of features.\\n* **Lucidchart:** A cloud-based diagramming tool with a focus on collaboration and a powerful feature set.\\n* **Visio:** A desktop diagramming tool from Microsoft with a comprehensive set of features.\\n\\n**In conclusion,** Mermaid.js is a powerful and useful tool for creating diagrams, especially when you need a lightweight and easy-to-use solution. However, it's not a perfect fit for every scenario, so it's important to consider your needs and requirements before choosing a diagramming tool.\\n\""
      ]
     },
     "execution_count": 38,
     "metadata": {},
     "output_type": "execute_result"
    }
   ],
   "source": [
    "response = model.generate_content('[Is mermaid JS really useful]',\n",
    "                                  safety_settings={'HARASSMENT':'block_none'})\n",
    "response.text"
   ]
  },
  {
   "cell_type": "markdown",
   "metadata": {
    "id": "WE_f5EruGUnj"
   },
   "source": [
    "Also note that each candidate has its own `safety_ratings`, in case the prompt passes but the individual responses fail the safety checks."
   ]
  },
  {
   "cell_type": "markdown",
   "metadata": {
    "id": "Ipa-8leY6wsK"
   },
   "source": [
    "### Encode messages"
   ]
  },
  {
   "cell_type": "markdown",
   "metadata": {
    "id": "3r47nsUOn6YY"
   },
   "source": [
    "The previous sections relied on the SDK to make it easy for you to send prompts to the API. This section offers a fully-typed equivalent to the previous example, so you can better understand the lower-level details regarding how the SDK encodes messages."
   ]
  },
  {
   "cell_type": "markdown",
   "metadata": {
    "id": "-fthdIItnqki"
   },
   "source": [
    "Underlying the Python SDK is the <a href=\"https://ai.google.dev/api/python/google/ai/generativelanguage\"><code>google.ai.generativelanguage</code></a> client library:"
   ]
  },
  {
   "cell_type": "code",
   "execution_count": 39,
   "metadata": {
    "id": "l6aafWECnpX6"
   },
   "outputs": [],
   "source": [
    "import google.ai.generativelanguage as glm"
   ]
  },
  {
   "cell_type": "markdown",
   "metadata": {
    "id": "gm1RWcB3n_n0"
   },
   "source": [
    "The SDK attempts to convert your message to a `glm.Content` object, which contains a list of `glm.Part` objects that each contain either:\n",
    "\n",
    "1. a <a href=\"https://www.tensorflow.org/text/api_docs/python/text\"><code>text</code></a> (string)\n",
    "2. `inline_data` (`glm.Blob`), where a blob contains binary `data` and a `mime_type`.\n",
    "\n",
    "You can also pass any of these classes as an equivalent dictionary.\n",
    "\n",
    "Note: The only accepted mime types are some image types, `image/*`.\n",
    "\n",
    "So, the fully-typed equivalent to the previous example is:  "
   ]
  },
  {
   "cell_type": "code",
   "execution_count": 40,
   "metadata": {
    "id": "IqFXdgDFRvlU"
   },
   "outputs": [],
   "source": [
    "model = genai.GenerativeModel('gemini-1.5-flash')\n",
    "response = model.generate_content(\n",
    "    glm.Content(\n",
    "        parts = [\n",
    "            glm.Part(text=\"Write a short, engaging blog post based on this picture.\"),\n",
    "            glm.Part(\n",
    "                inline_data=glm.Blob(\n",
    "                    mime_type='image/jpeg',\n",
    "                    data=pathlib.Path('nqueen.png').read_bytes()\n",
    "                )\n",
    "            ),\n",
    "        ],\n",
    "    ),\n",
    "    stream=True)"
   ]
  },
  {
   "cell_type": "code",
   "execution_count": 41,
   "metadata": {
    "colab": {
     "base_uri": "https://localhost:8080/",
     "height": 98
    },
    "id": "wKithEbeRzDX",
    "outputId": "98fec90f-aa5b-4bbf-dfb2-058220b1c12b"
   },
   "outputs": [
    {
     "data": {
      "text/markdown": [
       "> ## Can you crack the code?\n",
       "> \n",
       "> This puzzle is a classic game of logic.  Can you figure out where the fi... [TRIMMED] ..."
      ],
      "text/plain": [
       "<IPython.core.display.Markdown object>"
      ]
     },
     "execution_count": 41,
     "metadata": {},
     "output_type": "execute_result"
    }
   ],
   "source": [
    "response.resolve()\n",
    "\n",
    "to_markdown(response.text[:100] + \"... [TRIMMED] ...\")"
   ]
  },
  {
   "cell_type": "code",
   "execution_count": 42,
   "metadata": {},
   "outputs": [
    {
     "data": {
      "text/markdown": [
       "> ## Can you crack the code?\n",
       "> \n",
       "> This puzzle is a classic game of logic.  Can you figure out where the final crown goes?  There are a few rules to follow.  The goal is to place the crowns so that they don't share a row, column, or diagonal with one another.  \n",
       "> \n",
       "> So, where does the last crown go?  Let us know in the comments! \n",
       "> \n",
       "> **Hint:**  Think about how the queens are already positioned on the board. \n"
      ],
      "text/plain": [
       "<IPython.core.display.Markdown object>"
      ]
     },
     "execution_count": 42,
     "metadata": {},
     "output_type": "execute_result"
    }
   ],
   "source": [
    "to_markdown(response.text)"
   ]
  },
  {
   "cell_type": "markdown",
   "metadata": {
    "id": "MBqknExlzn0k"
   },
   "source": [
    "### Multi-turn conversations\n",
    "\n",
    "While the `genai.ChatSession` class shown earlier can handle many use cases, it does make some assumptions. If your use case doesn't fit into this chat implementation it's good to remember that `genai.ChatSession` is just a wrapper around <a href=\"https://ai.google.dev/api/python/google/generativeai/GenerativeModel#generate_content\"><code>GenerativeModel.generate_content</code></a>. In addition to single requests, it can handle multi-turn conversations.\n",
    "\n",
    "The individual messages are `glm.Content` objects or compatible dictionaries, as seen in previous sections. As a dictionary, the message requires `role` and `parts` keys. The `role` in a conversation can either be the `user`, which provides the prompts, or `model`, which provides the responses.\n",
    "\n",
    "Pass a list of `glm.Content` objects and it will be treated as multi-turn chat:"
   ]
  },
  {
   "cell_type": "code",
   "execution_count": 43,
   "metadata": {
    "colab": {
     "base_uri": "https://localhost:8080/",
     "height": 202
    },
    "id": "LtfwMa0HzvZL",
    "outputId": "55a2e9fb-1360-480f-f517-a1ac848b1b7d"
   },
   "outputs": [
    {
     "data": {
      "text/markdown": [
       "> Imagine a computer like a really smart toy box! Inside, there are tiny little lights that can be either on or off, just like a light switch.  These lights are called \"bits,\" and they store all the information the computer needs, like pictures, games, and even your favorite songs.\n",
       "> \n",
       "> The computer also has a special part called the \"brain,\" which can read and understand the information stored in the lights. This brain can tell the computer to play a game, show you a picture, or even write a story. \n",
       "> \n",
       "> When you press a key on your keyboard, the computer reads it and turns some of the little lights on or off, storing the information. Then, the brain uses that information to do what you asked it to do.  It's like giving the computer instructions!\n",
       "> \n",
       "> So, the computer uses tiny lights and a clever brain to do amazing things, just like you use your brain to play games and solve puzzles! \n"
      ],
      "text/plain": [
       "<IPython.core.display.Markdown object>"
      ]
     },
     "execution_count": 43,
     "metadata": {},
     "output_type": "execute_result"
    }
   ],
   "source": [
    "model = genai.GenerativeModel('gemini-1.5-flash')\n",
    "\n",
    "messages = [\n",
    "    {'role':'user',\n",
    "     'parts': [\"Briefly explain how a computer works to a young child.\"]}\n",
    "]\n",
    "response = model.generate_content(messages)\n",
    "\n",
    "to_markdown(response.text)"
   ]
  },
  {
   "cell_type": "markdown",
   "metadata": {
    "id": "3mqqiDJvzyac"
   },
   "source": [
    "To continue the conversation, add the response and another message.\n",
    "\n",
    "Note: For multi-turn conversations, you need to send the whole conversation history with each request. The API is **stateless**."
   ]
  },
  {
   "cell_type": "code",
   "execution_count": 44,
   "metadata": {
    "colab": {
     "base_uri": "https://localhost:8080/",
     "height": 665
    },
    "id": "MBxsZBxcz5Ik",
    "outputId": "414ace7f-6022-4ff3-bee6-ebcff865dd10"
   },
   "outputs": [
    {
     "data": {
      "text/markdown": [
       "> Think of a computer as a complex machine that speaks a language of ones and zeros, called binary code.  This code is the foundation of everything a computer does. \n",
       "> \n",
       "> **Here's how it works:**\n",
       "> \n",
       "> * **Hardware:** The physical components of a computer, like the keyboard, mouse, monitor, and the central processing unit (CPU), are all connected and work together. \n",
       "> * **CPU (Central Processing Unit):**  The \"brain\" of the computer, responsible for executing instructions and processing information. It works like a super-fast calculator, performing billions of operations per second.\n",
       "> * **Memory (RAM):** Like a temporary storage space, RAM holds the data and instructions that the CPU needs to access quickly. It's like a desk where you keep the documents you're currently working on.\n",
       "> * **Storage:**  Hard drives or SSDs store all the data permanently, like a filing cabinet for all your files and programs.\n",
       "> * **Input Devices:**  Keyboard, mouse, microphone, etc., allow you to interact with the computer and give it instructions.\n",
       "> * **Output Devices:** Monitor, speakers, printer, etc., display the results of the computer's work.\n",
       "> \n",
       "> **The Process:**\n",
       "> \n",
       "> 1. **Input:** You interact with the computer through input devices, like typing on the keyboard or clicking the mouse.\n",
       "> 2. **Instructions:** Your actions are translated into binary code, a series of ones and zeros, which the computer understands.\n",
       "> 3. **Processing:** The CPU receives these instructions and processes them, performing calculations and manipulating data.\n",
       "> 4. **Output:** The results are displayed on the monitor, played through speakers, or printed on paper.\n",
       "> \n",
       "> **Operating System:**  A software program like Windows, macOS, or Linux, acts as an intermediary between the hardware and you. It manages the resources, provides a user interface, and allows you to interact with the computer easily.\n",
       "> \n",
       "> **Software:**  Applications like web browsers, games, and productivity programs are run on top of the operating system and interact with the hardware through it.\n",
       "> \n",
       "> **In essence, a computer is a complex system that translates your input into binary code, processes it using its central processing unit, and then displays the results through various output devices.**\n"
      ],
      "text/plain": [
       "<IPython.core.display.Markdown object>"
      ]
     },
     "execution_count": 44,
     "metadata": {},
     "output_type": "execute_result"
    }
   ],
   "source": [
    "messages.append({'role':'model',\n",
    "                 'parts':[response.text]})\n",
    "\n",
    "messages.append({'role':'user',\n",
    "                 'parts':[\"Okay, how about a more detailed explanation to a high school student?\"]})\n",
    "\n",
    "response = model.generate_content(messages)\n",
    "\n",
    "to_markdown(response.text)"
   ]
  },
  {
   "cell_type": "markdown",
   "metadata": {
    "id": "4spL8SJ10ir7"
   },
   "source": [
    "### Generation configuration\n",
    "\n",
    "The `generation_config` argument allows you to modify the generation parameters. Every prompt you send to the model includes parameter values that control how the model generates responses."
   ]
  },
  {
   "cell_type": "code",
   "execution_count": 45,
   "metadata": {
    "id": "gE7I9Anl0ud7"
   },
   "outputs": [],
   "source": [
    "model = genai.GenerativeModel('gemini-1.5-flash')\n",
    "response = model.generate_content(\n",
    "    'Tell me a story about a magic backpack.',\n",
    "    generation_config=genai.types.GenerationConfig(\n",
    "        # Only one candidate for now.\n",
    "        candidate_count=1,\n",
    "        stop_sequences=['x'],\n",
    "        temperature=1.0)\n",
    ")"
   ]
  },
  {
   "cell_type": "code",
   "execution_count": 46,
   "metadata": {
    "colab": {
     "base_uri": "https://localhost:8080/",
     "height": 62
    },
    "id": "0fbab01e8fcf",
    "outputId": "c1dedd13-0bf9-456a-e13d-2e0e1d446895"
   },
   "outputs": [
    {
     "data": {
      "text/markdown": [
       "> Elara, a girl with eyes the color of moss and a spirit as wild as the wind, had always been a collector of stories. She devoured them like candy, each tale a tiny adventure tucked away in her heart. One day, while rummaging through her grandmother’s attic, she stumbled upon a dusty, leather backpack. It was plain, almost unremarkable, but when Elara touched it, a faint warmth spread through her fingertips.\n",
       "> \n",
       "> Ignoring the prickle of unease, she slung it on her back. As she did, the world seemed to shimmer. The attic, once cluttered and grey, became a vibrant forest, alive with rustling leaves and chirping birds. Elara gasped, her heart pounding. Then, the forest faded, leaving behind a backpack that felt strangely lighter.\n",
       "> \n",
       "> Curiosity consumed her. She raced outside, the backpack bouncing against her back. As she ran, the world around her transformed again. A bustling city sprang up, filled with towering buildings and the roar of traffic. Elara found herself amidst a throng of people, their faces a kaleidoscope of emotions. \n",
       "> \n",
       "> Then, just as quickly, the city dissolved, leaving Elara in her own backyard, the backpack still warm against her skin. Over the ne"
      ],
      "text/plain": [
       "<IPython.core.display.Markdown object>"
      ]
     },
     "execution_count": 46,
     "metadata": {},
     "output_type": "execute_result"
    }
   ],
   "source": [
    "text = response.text\n",
    "to_markdown(text)"
   ]
  },
  {
   "cell_type": "markdown",
   "metadata": {
    "id": "2qt6Yj2JRf-0"
   },
   "source": [
    "## What's next\n",
    "\n",
    "-   Prompt design is the process of creating prompts that elicit the desired response from language models. Writing well structured prompts is an essential part of ensuring accurate, high quality responses from a language model. Learn about best practices for [prompt writing](https://ai.google.dev/docs/prompt_best_practices).\n",
    "-   Gemini offers several model variations to meet the needs of different use cases, such as input types and complexity, implementations for chat or other dialog language tasks, and size constraints. Learn about the available [Gemini models](https://ai.google.dev/models/gemini).\n",
    "-   Gemini offers options for requesting [rate limit increases](https://ai.google.dev/docs/increase_quota). The rate limit for Gemini-Pro models is 60 requests per minute (RPM)."
   ]
  }
 ],
 "metadata": {
  "colab": {
   "name": "python.ipynb",
   "provenance": []
  },
  "google": {
   "image_path": "/static/site-assets/images/docs/logo-python.svg",
   "keywords": [
    "examples",
    "gemini",
    "beginner",
    "googleai",
    "quickstart",
    "python",
    "text",
    "chat",
    "vision",
    "embed"
   ]
  },
  "kernelspec": {
   "display_name": "Python 3 (ipykernel)",
   "language": "python",
   "name": "python3"
  },
  "language_info": {
   "codemirror_mode": {
    "name": "ipython",
    "version": 3
   },
   "file_extension": ".py",
   "mimetype": "text/x-python",
   "name": "python",
   "nbconvert_exporter": "python",
   "pygments_lexer": "ipython3",
   "version": "3.12.2"
  }
 },
 "nbformat": 4,
 "nbformat_minor": 4
}
